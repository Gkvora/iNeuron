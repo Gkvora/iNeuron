{
 "cells": [
  {
   "cell_type": "markdown",
   "metadata": {
    "id": "SpCKEdALxPUv"
   },
   "source": [
    "# Python Basic Assignment 21"
   ]
  },
  {
   "cell_type": "markdown",
   "metadata": {
    "id": "s485FbCdxab3"
   },
   "source": [
    "## 1. Add the current date to the text file today.txt as a string.\n"
   ]
  },
  {
   "cell_type": "code",
   "execution_count": 1,
   "metadata": {
    "colab": {
     "base_uri": "https://localhost:8080/"
    },
    "id": "SiZmRDObxciv",
    "outputId": "d576a052-4a34-43de-b11d-6ac3cd4db209"
   },
   "outputs": [
    {
     "name": "stdout",
     "output_type": "stream",
     "text": [
      "2023-05-26\n"
     ]
    }
   ],
   "source": [
    "from datetime import date\n",
    "\n",
    "with open('today.txt', 'w') as txt:\n",
    "    txt.write(date.today().isoformat())\n",
    "print(date.today().isoformat())"
   ]
  },
  {
   "cell_type": "markdown",
   "metadata": {
    "id": "7HGqEwRXxiFJ"
   },
   "source": [
    "## 2. Read the text file today.txt into the string today_string\n"
   ]
  },
  {
   "cell_type": "code",
   "execution_count": 2,
   "metadata": {
    "colab": {
     "base_uri": "https://localhost:8080/"
    },
    "id": "t09ftFFDxj2g",
    "outputId": "75b7b8b9-52dd-4aab-a537-2ecc7afa4b19"
   },
   "outputs": [
    {
     "name": "stdout",
     "output_type": "stream",
     "text": [
      "Reading text: 2023-05-26\n"
     ]
    }
   ],
   "source": [
    "today_string = \"\"\n",
    "with open('today.txt', 'r') as txt:\n",
    "    today_string = txt.readline()\n",
    "print(f\"Reading text: {today_string}\")"
   ]
  },
  {
   "cell_type": "markdown",
   "metadata": {
    "id": "v7uhPgtcxnsP"
   },
   "source": [
    "## 3. Parse the date from today_string.\n"
   ]
  },
  {
   "cell_type": "code",
   "execution_count": 3,
   "metadata": {
    "colab": {
     "base_uri": "https://localhost:8080/"
    },
    "id": "q1s-cvOWxphG",
    "outputId": "767cbae4-128c-4e24-ff5f-640158962b64"
   },
   "outputs": [
    {
     "name": "stdout",
     "output_type": "stream",
     "text": [
      "2023-05-26 00:00:00\n"
     ]
    }
   ],
   "source": [
    "from datetime import datetime\n",
    "print(datetime.strptime(today_string, '%Y-%m-%d'))"
   ]
  },
  {
   "cell_type": "markdown",
   "metadata": {
    "id": "MHn6RHmlxtz3"
   },
   "source": [
    "## 4. List the files in your current directory\n"
   ]
  },
  {
   "cell_type": "code",
   "execution_count": 4,
   "metadata": {
    "colab": {
     "base_uri": "https://localhost:8080/"
    },
    "id": "35w4vGUVxwJK",
    "outputId": "12918394-0d20-4bd5-8531-a5e6fa85b59c"
   },
   "outputs": [
    {
     "data": {
      "text/plain": [
       "['.ipynb_checkpoints',\n",
       " 'ASSIGNMENT 12.ipynb',\n",
       " 'books.csv',\n",
       " 'books.db',\n",
       " 'Python Basic Assignment 01.ipynb',\n",
       " 'Python_Basic_Assignment_02.ipynb',\n",
       " 'Python_Basic_Assignment_03.ipynb',\n",
       " 'Python_Basic_Assignment_04.ipynb',\n",
       " 'Python_Basic_Assignment_05.ipynb',\n",
       " 'Python_Basic_Assignment_06.ipynb',\n",
       " 'Python_Basic_Assignment_07.ipynb',\n",
       " 'Python_Basic_Assignment_08.ipynb',\n",
       " 'Python_Basic_Assignment_09.ipynb',\n",
       " 'Python_Basic_Assignment_10.ipynb',\n",
       " 'Python_Basic_Assignment_11.ipynb',\n",
       " 'Python_Basic_Assignment_13.ipynb',\n",
       " 'Python_Basic_Assignment_14.ipynb',\n",
       " 'Python_Basic_Assignment_15.ipynb',\n",
       " 'Python_Basic_Assignment_16.ipynb',\n",
       " 'Python_Basic_Assignment_17.ipynb',\n",
       " 'Python_Basic_Assignment_18_.ipynb',\n",
       " 'Python_Basic_Assignment_19.ipynb',\n",
       " 'Python_Basic_Assignment_20.ipynb',\n",
       " 'Python_Basic_Assignment_21.ipynb',\n",
       " 'Python_Basic_Assignment_22.ipynb',\n",
       " 'Python_Basic_Assignment_23.ipynb',\n",
       " 'Python_Basic_Assignment_24.ipynb',\n",
       " 'Python_Basic_Assignment_25.ipynb',\n",
       " 'Python_Programming_Assignment_01.ipynb',\n",
       " 'Python_Programming_Assignment_02.ipynb',\n",
       " 'Python_Programming_Assignment_03.ipynb',\n",
       " 'Python_Programming_Assignment_04.ipynb',\n",
       " 'Python_Programming_Assignment_05.ipynb',\n",
       " 'Python_Programming_Assignment_06.ipynb',\n",
       " 'Python_Programming_Assignment_07.ipynb',\n",
       " 'Python_Programming_Assignment_08.ipynb',\n",
       " 'Python_Programming_Assignment_09.ipynb',\n",
       " 'Python_Programming_Assignment_10.ipynb',\n",
       " 'Python_Programming_Assignment_11.ipynb',\n",
       " 'Python_Programming_Assignment_12.ipynb',\n",
       " 'Python_Programming_Assignment_13.ipynb',\n",
       " 'Python_Programming_Assignment_14.ipynb',\n",
       " 'Python_Programming_Assignment_15.ipynb',\n",
       " 'Python_Programming_Assignment_16.ipynb',\n",
       " 'Python_Programming_Assignment_17.ipynb',\n",
       " 'Python_Programming_Assignment_18.ipynb',\n",
       " 'Python_Programming_Assignment_19.ipynb',\n",
       " 'Python_Programming_Assignment_20.ipynb',\n",
       " 'Python_Programming_Assignment_21.ipynb',\n",
       " 'Python_Programming_Assignment_22.ipynb',\n",
       " 'Python_Programming_Assignment_23.ipynb',\n",
       " 'Python_Programming_Assignment_24.ipynb',\n",
       " 'Python_Programming_Assignment_25.ipynb',\n",
       " 'test.txt',\n",
       " 'today.txt',\n",
       " 'Untitled.ipynb']"
      ]
     },
     "execution_count": 4,
     "metadata": {},
     "output_type": "execute_result"
    }
   ],
   "source": [
    "import os\n",
    "os.listdir('.')"
   ]
  },
  {
   "cell_type": "markdown",
   "metadata": {
    "id": "aU_BUnN6x2xJ"
   },
   "source": [
    "## 5. Create a list of all of the files in your parent directory (minimum five files should be available).\n"
   ]
  },
  {
   "cell_type": "code",
   "execution_count": 5,
   "metadata": {
    "colab": {
     "base_uri": "https://localhost:8080/"
    },
    "id": "kNX_WqaMx5Fh",
    "outputId": "3ae06b25-a100-4265-a1ee-be423f2c099f"
   },
   "outputs": [
    {
     "name": "stdout",
     "output_type": "stream",
     "text": [
      "<class 'list'>\n",
      "['.conda', '.condarc', '.continuum', '.cufflinks', '.idlerc', '.ipynb_checkpoints', '.ipython', '.jupyter', '.matplotlib', '.ms-ad', '.vscode', '.~Task 1 ', '.~Task 2 ', '.~Task 4 ', '.~Task 5 ', '3D Objects', 'addresses.csv', 'addresses__.csv', 'AM.csv', 'Amazon Sales .ipynb', 'Amazon Sales Records (2).csv', 'anaconda3', 'annual.csv.csv', 'AppData', 'Application Data', 'archive', 'archive (2)', 'archive (2).zip', 'archive.zip', 'ASSIGNMENT 10(pra).ipynb', 'ASSIGNMENT 10.ipynb', 'ASSIGNMENT 11(pra).ipynb', 'ASSIGNMENT 11.ipynb', 'ASSIGNMENT 12(pra).ipynb', 'ASSIGNMENT 13.ipynb', 'ASSIGNMENT 14.ipynb', 'ASSIGNMENT 16.ipynb', 'ASSIGNMENT 17.ipynb', 'ASSIGNMENT 19.ipynb', 'ASSIGNMENT 20.ipynb', 'ASSIGNMENT 4.ipynb', 'ASSIGNMENT 5.ipynb', 'ASSIGNMENT 6.ipynb', 'ASSIGNMENT 7(pra).ipynb', 'ASSIGNMENT 7.ipynb', 'ASSIGNMENT 8(pra).ipynb', 'ASSIGNMENT 8.ipynb', 'ASSIGNMENT 9(pra).ipynb', 'ASSIGNMENT 9.ipynb', 'Assignment=6 (practical).ipynb', 'auto.csv', 'Book1.csv', 'Book2.xlsx', 'Book3.xlsx', 'Code basic.ipynb', 'Codebasic (Mathematics and Statistics).ipynb', 'Codebasics (Numpy , Pandas , Matplotlib).ipynb', 'Codebasics (Numpy and Pandas).ipynb', 'Codebasics (Numpy).ipynb', 'Codebsic(Maths & stat,Normal Di & Zscore).ipynb', 'Code_basic.xlsx', 'Code__basic.csv', 'Contacts', 'Cookies', 'coursera data analysis.ipynb', 'Diwali Project.ipynb', 'Diwali_Sales_Data.csv', 'Documents', 'Downloads', 'dtree.png', 'edb_psqlodbc.exe', 'Favorites', 'gugugugugugu.xlsx', 'height.csv', 'income.csv', 'iNeuron - Pandas  Numpy Matplotlib Seaborn.ipynb', 'iNeuron - Pandas and Numpy.ipynb', 'IntelGraphicsProfiles', 'Iris.csv', 'kc_house_data.csv', 'Krish Naik (Youtube)( Statistics For Data Science).ipynb', 'Links', 'Local Settings', 'matlab (Responses) - Form responses 1.csv', 'MicrosoftEdgeBackups', 'Music', 'My Documents', 'NetHood', 'NTUSER.DAT', 'ntuser.dat.LOG1', 'ntuser.dat.LOG2', 'NTUSER.DAT{53b39e88-18c4-11ea-a811-000d3aa4692b}.TM.blf', 'NTUSER.DAT{53b39e88-18c4-11ea-a811-000d3aa4692b}.TMContainer00000000000000000001.regtrans-ms', 'NTUSER.DAT{53b39e88-18c4-11ea-a811-000d3aa4692b}.TMContainer00000000000000000002.regtrans-ms', 'ntuser.ini', 'Oasis Infobyte', 'ohana-api-master', 'ohana-api-master.zip', 'OneDrive', 'OperaSetup.exe', 'piechart.png', 'Players.csv', 'postgresql_10.exe', 'PPPP.xlsx', 'ppppppp.csv', 'Prediction using Unsupervised ML.csv', 'PrintHood', 'Python Assignment', 'Python Practice.ipynb', 'Python_Diwali_Sales_Analysis-main', 'Pyyyyyy', 'Pyyyyyy.csv', 'Recent', 'revenue1.csv', 'revenue_.csv', 'Saved Games', 'seaborn-data', 'Searches', 'SendTo', 'Spark Foundation', 'sporttt.csv', 'SQL part 1.ipynb', 'Start Menu', 'Statistics krish naik.ipynb', 'Student_marksheet.csv', 'Student_marksheet_.csv', 'Task  1 ', 'Task  2 ', 'Task  4 ', 'Task  5 ', 'Task 1 ', 'Task 1 - Prediction using Supervised Machine Learning.ipynb', 'Task 2 ', 'Task 4 ', 'Task 5 ', 'TASK-02 (Prediction using Unsupervised Machine Learning).ipynb', 'TASK-03 (Exploratory Data Analysis - Retail).ipynb', 'TASK-04 (Exploratory Data Analysis - Terrorism).ipynb', 'TASK-05 (Exploratory Data Analysis - Sports).ipynb', 'TASK-06  (Prediction Using Decision Tree Algorithm).ipynb', 'TASK-06 (Prediction Using Decision Tree Algorithm).ipynb', 'TASK-06-Prediction Using Decision Tree Algorithm.ipynb', 'TEM.xlsx', 'temperature.xlsx', 'temperature_.csv', 'Templates', 'TEST.png', 'test1', 'tmdb_5000_credits.csv', 'tmdb_5000_movies.csv', 'Udemy Courses', 'Untitled.ipynb', 'Untitled1.ipynb', 'Untitled10.ipynb', 'Untitled11.ipynb', 'Untitled12.ipynb', 'Untitled13.ipynb', 'Untitled14.ipynb', 'Untitled15.ipynb', 'Untitled16.ipynb', 'Untitled17.ipynb', 'Untitled18.ipynb', 'Untitled19-Copy1.ipynb', 'Untitled19.ipynb', 'Untitled2.ipynb', 'Untitled20.ipynb', 'Untitled21.ipynb', 'Untitled22.ipynb', 'Untitled23.ipynb', 'Untitled24.ipynb', 'Untitled25.ipynb', 'Untitled26.ipynb', 'Untitled27.ipynb', 'Untitled28.ipynb', 'Untitled29.ipynb', 'Untitled3.ipynb', 'Untitled30.ipynb', 'Untitled31.ipynb', 'Untitled32.ipynb', 'Untitled33.ipynb', 'Untitled34.ipynb', 'Untitled35.ipynb', 'Untitled36.ipynb', 'Untitled37.ipynb', 'Untitled38.ipynb', 'Untitled39.ipynb', 'Untitled4.ipynb', 'Untitled40.ipynb', 'Untitled41.ipynb', 'Untitled5.ipynb', 'Untitled6.ipynb', 'Untitled7.ipynb', 'Untitled8.ipynb', 'Untitled9.ipynb', 'Videos', 'weight-height.csv']\n",
      "Number of files: 196\n"
     ]
    }
   ],
   "source": [
    "lst_files = os.listdir('..')\n",
    "print(type(lst_files))\n",
    "print(lst_files)\n",
    "print(f\"Number of files: {len(lst_files)}\")"
   ]
  },
  {
   "cell_type": "markdown",
   "metadata": {
    "id": "cu4T5mmdx8wp"
   },
   "source": [
    "## 6. Use multiprocessing to create three separate processes. Make each one wait a random number of seconds between one and five, print the current time, and then exit.\n"
   ]
  },
  {
   "cell_type": "code",
   "execution_count": 6,
   "metadata": {
    "colab": {
     "base_uri": "https://localhost:8080/"
    },
    "id": "DBtQ_yytx-2k",
    "outputId": "72dd8534-eb55-4d67-f8c9-ac5e1ba1069b"
   },
   "outputs": [
    {
     "name": "stdout",
     "output_type": "stream",
     "text": [
      "starting processes\n",
      "Process 0 will sleep for 3\n",
      "starting processes\n",
      "Process 1 will sleep for 3\n",
      "starting processes\n",
      "Process 2 will sleep for 6\n"
     ]
    }
   ],
   "source": [
    "import multiprocessing\n",
    "from datetime import datetime \n",
    "from time import sleep \n",
    "import random\n",
    "\n",
    "def now_sleep(seconds): \n",
    "    print('wait', seconds, 'seconds, time is', datetime.utcnow())\n",
    "    sleep(seconds) \n",
    "    print(\"Finished Process!\")\n",
    "\n",
    "if __name__ == '__main__':\n",
    "    for n in range(3): \n",
    "        print(\"starting processes\")\n",
    "        seconds = random.randint(1, 10) \n",
    "        print(f\"Process {n} will sleep for {seconds}\")\n",
    "        proc = multiprocessing.Process(target=now_sleep, args=(seconds,)) \n",
    "        proc.start()"
   ]
  },
  {
   "cell_type": "markdown",
   "metadata": {
    "id": "N4dt_Z8hyDMT"
   },
   "source": [
    "## 7. Create a date object of your day of birth.\n"
   ]
  },
  {
   "cell_type": "code",
   "execution_count": 7,
   "metadata": {
    "colab": {
     "base_uri": "https://localhost:8080/"
    },
    "id": "8V9yAOZYyFM2",
    "outputId": "32fa2446-948d-4ca1-f07b-0bd760a923c3"
   },
   "outputs": [
    {
     "name": "stdout",
     "output_type": "stream",
     "text": [
      "2000-06-16\n"
     ]
    }
   ],
   "source": [
    "my_birthday = date(2000, 6, 16)\n",
    "print(my_birthday)"
   ]
  },
  {
   "cell_type": "markdown",
   "metadata": {
    "id": "TtlAmyIvyKui"
   },
   "source": [
    "## 8. What day of the week was your day of birth?\n"
   ]
  },
  {
   "cell_type": "code",
   "execution_count": 8,
   "metadata": {
    "colab": {
     "base_uri": "https://localhost:8080/"
    },
    "id": "J0_-cE6EyMuI",
    "outputId": "00ab7e8a-a78c-401a-bf0b-9015e3c00bcd"
   },
   "outputs": [
    {
     "name": "stdout",
     "output_type": "stream",
     "text": [
      "My birthday was on 5th day of the week\n"
     ]
    }
   ],
   "source": [
    "print(f\"My birthday was on {my_birthday.isoweekday()}th day of the week\")"
   ]
  },
  {
   "cell_type": "markdown",
   "metadata": {
    "id": "d3D_5Cd3yStO"
   },
   "source": [
    "## 9. When will you be (or when were you) 10,000 days old?\n",
    "\n"
   ]
  },
  {
   "cell_type": "code",
   "execution_count": 9,
   "metadata": {
    "colab": {
     "base_uri": "https://localhost:8080/"
    },
    "id": "R9ZKhXbhyUaG",
    "outputId": "c85f77ca-0594-4a0f-bb0d-c9c028be86dd"
   },
   "outputs": [
    {
     "name": "stdout",
     "output_type": "stream",
     "text": [
      "2027-11-02\n"
     ]
    }
   ],
   "source": [
    "from datetime import timedelta\n",
    "\n",
    "thousand_days = my_birthday + timedelta(days=10000)\n",
    "print(thousand_days)"
   ]
  }
 ],
 "metadata": {
  "colab": {
   "collapsed_sections": [],
   "provenance": []
  },
  "kernelspec": {
   "display_name": "Python 3 (ipykernel)",
   "language": "python",
   "name": "python3"
  },
  "language_info": {
   "codemirror_mode": {
    "name": "ipython",
    "version": 3
   },
   "file_extension": ".py",
   "mimetype": "text/x-python",
   "name": "python",
   "nbconvert_exporter": "python",
   "pygments_lexer": "ipython3",
   "version": "3.9.13"
  }
 },
 "nbformat": 4,
 "nbformat_minor": 1
}

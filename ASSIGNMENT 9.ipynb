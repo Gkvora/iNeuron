{
 "cells": [
  {
   "cell_type": "markdown",
   "metadata": {
    "id": "RHUj_cS3ptXF"
   },
   "source": [
    "# Python Basic Assignment 9\n"
   ]
  },
  {
   "cell_type": "markdown",
   "metadata": {
    "id": "KU2FsBpSpw3U"
   },
   "source": [
    "# 1. To what does a relative path refer?\n",
    "Relative paths are relative to the current working directory. When using relative path, we need to provide the absolute/complete path of file from the root directory, instead we can give the partial/relative path to indicate the file location.\n",
    "\n"
   ]
  },
  {
   "cell_type": "markdown",
   "metadata": {
    "id": "hbY95za8p0P3"
   },
   "source": [
    "# 2. What does an absolute path start with your operating system?\n",
    "I am using Windows Operating System with Single Hard drive, so my absolute path starts with C:\\"
   ]
  },
  {
   "cell_type": "markdown",
   "metadata": {
    "id": "Hd3iQenUp4Tb"
   },
   "source": [
    "# 3. What do the functions os.getcwd() and os.chdir() do?\n",
    "os.getcwd() returns you the current working directory path\n",
    "\n",
    "os.chdir() is used to change the current working directory while running the program"
   ]
  },
  {
   "cell_type": "markdown",
   "metadata": {
    "id": "8XmmLlShp-oN"
   },
   "source": [
    "# 4. What are the . and .. folders?\n",
    ". single dot means the current folder\n",
    "\n",
    ".. double dot means the parent folder\n"
   ]
  },
  {
   "cell_type": "markdown",
   "metadata": {
    "id": "OPZoZtWoqCw6"
   },
   "source": [
    "# 5. In C:\\bacon\\eggs\\spam.txt, which part is the dir name, and which part is the base name?\n",
    "C:\\bacon\\eggs is the dir name\n",
    "\n",
    "spam.txt is the base name"
   ]
  },
  {
   "cell_type": "markdown",
   "metadata": {
    "id": "bAAVwH7UqM5M"
   },
   "source": [
    "# 6. What are the three “mode” arguments that can be passed to the open() function?\n",
    "The three mode arguments that can be passed to the open() function are:\n",
    "\n",
    "'r' for read mode\n",
    "\n",
    "'w' for write mode\n",
    "\n",
    "'a' for append mode."
   ]
  },
  {
   "cell_type": "markdown",
   "metadata": {
    "id": "TqFn9QwvqPwY"
   },
   "source": [
    "#7. What happens if an existing file is opened in write mode?\n",
    "If an existing file is opened in write mode, then all the existing content from the file is erased and the new content will be added.\n",
    "\n",
    "This might result in loss of data if you wanted to have both existing and new data to existing in the file"
   ]
  },
  {
   "cell_type": "markdown",
   "metadata": {
    "id": "WvuNTzmjqVbN"
   },
   "source": [
    "# 8. How do you tell the difference between read() and readlines()?\n",
    "The read() method returns the file’s entire contents as a single string value.\n",
    "\n",
    "The readlines() method returns a list of strings, where each string is a line from the file’s contents.\n"
   ]
  },
  {
   "cell_type": "markdown",
   "metadata": {
    "id": "onwGV5lvqXg8"
   },
   "source": [
    "# 9. What data structure does a shelf value resemble?\n",
    "A shelf value resembles a dictionary value; it has keys and values, along with keys() and values() methods that work similarly to the dictionary methods of the same names."
   ]
  },
  {
   "cell_type": "markdown",
   "metadata": {
    "id": "kyKW3a65qRuy"
   },
   "source": []
  },
  {
   "cell_type": "code",
   "execution_count": null,
   "metadata": {
    "id": "InU3b8XFpqRQ"
   },
   "outputs": [],
   "source": []
  }
 ],
 "metadata": {
  "colab": {
   "collapsed_sections": [],
   "provenance": []
  },
  "kernelspec": {
   "display_name": "Python 3 (ipykernel)",
   "language": "python",
   "name": "python3"
  },
  "language_info": {
   "codemirror_mode": {
    "name": "ipython",
    "version": 3
   },
   "file_extension": ".py",
   "mimetype": "text/x-python",
   "name": "python",
   "nbconvert_exporter": "python",
   "pygments_lexer": "ipython3",
   "version": "3.9.13"
  }
 },
 "nbformat": 4,
 "nbformat_minor": 1
}

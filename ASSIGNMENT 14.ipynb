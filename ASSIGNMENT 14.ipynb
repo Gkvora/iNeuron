{
 "cells": [
  {
   "cell_type": "markdown",
   "metadata": {
    "id": "r_GHE81Mv75J"
   },
   "source": [
    "# Python Basic Assignment 14"
   ]
  },
  {
   "cell_type": "markdown",
   "metadata": {
    "id": "RumkKLxMwDxx"
   },
   "source": [
    "# 1. What does RGBA stand for?\n",
    "Ans:\n",
    "\n",
    "RGBA: Red-Green-Blue-Alpha\n",
    "\n",
    "# 2.From the Pillow module, how do you get the RGBA value of any images?\n",
    "Ans:\n",
    "\n",
    "from PIL import ImageColor\n",
    "\n",
    "ImageColor.getcolor(color_name, 'RGBA')\n",
    "\n",
    "# 3.What is a box tuple, and how does it work?\n",
    "Ans:\n",
    "\n",
    "Many Pillow's function take box tuple argument. This means pillow is taking a tuple of four integer coordinates that expecting a rectangular region in image. The four integers are in order left, top, right, bottom."
   ]
  },
  {
   "cell_type": "markdown",
   "metadata": {
    "id": "OMXiYT13wJPH"
   },
   "source": [
    "## 4.Use your image and load in notebook then, How can you find out the width and height of an Image object?"
   ]
  },
  {
   "cell_type": "code",
   "execution_count": 2,
   "metadata": {
    "colab": {
     "base_uri": "https://localhost:8080/"
    },
    "id": "yFhPpX8ywN-1",
    "outputId": "2e0a5752-5525-4ca5-c764-2364e56a3925"
   },
   "outputs": [
    {
     "name": "stdout",
     "output_type": "stream",
     "text": [
      "width= 1600\n",
      "height= 1200\n"
     ]
    }
   ],
   "source": [
    "from PIL import Image\n",
    "im=Image.open(\"image.jpg\")\n",
    "width, height = im.size\n",
    "print(\"width=\", width)\n",
    "print(\"height=\", height)"
   ]
  },
  {
   "cell_type": "markdown",
   "metadata": {
    "id": "va44VBorwnur"
   },
   "source": [
    "# 5.What method would you call to get Image object for a 100×100 image, excluding the lower-left quarter of it?\n",
    "Ans:\n",
    "\n",
    "from PIL import Image\n",
    "\n",
    "Image.new('RGBA', (100,100))\n",
    "\n",
    "# 6.After making changes to an Image object, how could you save it as an image file?\n",
    "Ans:\n",
    "\n",
    "save(filename)\n",
    "\n",
    "# 7.What module contains Pillow’s shape-drawing code?\n",
    "Ans:\n",
    "\n",
    "ImageDraw\n",
    "\n",
    "# 8.Image objects do not have drawing methods. What kind of object does? How do you get this kind of object?\n",
    "Ans:\n",
    "\n",
    "wand.drawing.Drawing object has drawing methods.\n",
    "\n",
    "It can be got this way:\n",
    "\n",
    "from wand.drawing import Drawing"
   ]
  },
  {
   "cell_type": "code",
   "execution_count": null,
   "metadata": {
    "id": "KomRY9h_v34i"
   },
   "outputs": [],
   "source": []
  }
 ],
 "metadata": {
  "colab": {
   "collapsed_sections": [],
   "provenance": []
  },
  "kernelspec": {
   "display_name": "Python 3 (ipykernel)",
   "language": "python",
   "name": "python3"
  },
  "language_info": {
   "codemirror_mode": {
    "name": "ipython",
    "version": 3
   },
   "file_extension": ".py",
   "mimetype": "text/x-python",
   "name": "python",
   "nbconvert_exporter": "python",
   "pygments_lexer": "ipython3",
   "version": "3.9.13"
  }
 },
 "nbformat": 4,
 "nbformat_minor": 1
}

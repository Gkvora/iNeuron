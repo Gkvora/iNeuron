{
 "cells": [
  {
   "cell_type": "markdown",
   "metadata": {
    "id": "kvK2ur1UvPFB"
   },
   "source": [
    "# Python Basic Assignment 13"
   ]
  },
  {
   "cell_type": "markdown",
   "metadata": {
    "id": "ihWTG7D-vZf0"
   },
   "source": [
    "# 1.What advantages do Excel spreadsheets have over CSV spreadsheets?\n",
    "Ans := \n",
    "Reading large dataset is much easier in excel compared to csv, Excel provides the option for linking the data from external sources but no such feature available in csv.\n"
   ]
  },
  {
   "cell_type": "markdown",
   "metadata": {
    "id": "vEiVC-LQvKRQ"
   },
   "source": [
    "# 2.What do you pass to csv.reader() and csv.writer() to create reader and writer objects? \n",
    "Ans := file object"
   ]
  },
  {
   "cell_type": "markdown",
   "metadata": {},
   "source": [
    "# 3.What modes do File objects for reader and writer objects need to be opened in? \n",
    "Ans :=\n",
    "'r'(read mode) for reader objects and 'w'(write mode) for writer objects"
   ]
  },
  {
   "cell_type": "markdown",
   "metadata": {},
   "source": [
    "# 4.What method takes a list argument and writes it to a CSV file? \n",
    "Ans :=\n",
    "writerow() method of csv.writer()"
   ]
  },
  {
   "cell_type": "markdown",
   "metadata": {},
   "source": [
    "# 5.What do the keyword arguments delimiter and line terminator do? \n",
    "Ans :=\n",
    "delimiter sets the character between cells on a row. line terminator sets the character that comes at the end of a row."
   ]
  },
  {
   "cell_type": "markdown",
   "metadata": {},
   "source": [
    "# 6.What function takes a string of JSON data and returns a Python data structure? \n",
    "Ans :=\n",
    "json.loads()"
   ]
  },
  {
   "cell_type": "markdown",
   "metadata": {},
   "source": [
    "# 7.What function takes a Python data structure and returns a string of JSON data? \n",
    "Ans :=\n",
    "json.dumps()"
   ]
  },
  {
   "cell_type": "code",
   "execution_count": null,
   "metadata": {},
   "outputs": [],
   "source": []
  }
 ],
 "metadata": {
  "colab": {
   "collapsed_sections": [],
   "provenance": []
  },
  "kernelspec": {
   "display_name": "Python 3 (ipykernel)",
   "language": "python",
   "name": "python3"
  },
  "language_info": {
   "codemirror_mode": {
    "name": "ipython",
    "version": 3
   },
   "file_extension": ".py",
   "mimetype": "text/x-python",
   "name": "python",
   "nbconvert_exporter": "python",
   "pygments_lexer": "ipython3",
   "version": "3.9.13"
  }
 },
 "nbformat": 4,
 "nbformat_minor": 1
}

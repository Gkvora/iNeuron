{
 "cells": [
  {
   "cell_type": "markdown",
   "metadata": {
    "id": "G1DS-eQ6_s38"
   },
   "source": [
    "# Python Programming Assignment 15"
   ]
  },
  {
   "cell_type": "markdown",
   "metadata": {
    "id": "xT-dRYgT_3Cz"
   },
   "source": [
    "## 1. Please write a program using generator to print the numbers which can be divisible by 5 and 7 between 0 and n in comma separated form while n is input by console."
   ]
  },
  {
   "cell_type": "code",
   "execution_count": 1,
   "metadata": {
    "colab": {
     "base_uri": "https://localhost:8080/"
    },
    "id": "_WoxpDEl_5s4",
    "outputId": "eb025983-acf9-40e9-936a-34ab5db0f208"
   },
   "outputs": [
    {
     "name": "stdout",
     "output_type": "stream",
     "text": [
      "0 , 35 , 70 \n"
     ]
    }
   ],
   "source": [
    "def task1(n):\n",
    "    \n",
    "    for i in range(n+1):\n",
    "        if i % 5 == 0 and i % 7 == 0:\n",
    "            yield str(i)+' '\n",
    "task1(100)\n",
    "print(', '.join([i for i in task1(100)]))"
   ]
  },
  {
   "cell_type": "markdown",
   "metadata": {
    "id": "llqjx4oe_9IX"
   },
   "source": [
    "## 2. Please write a program using generator to print the even numbers between 0 and n in comma separated form while n is input by console."
   ]
  },
  {
   "cell_type": "code",
   "execution_count": 2,
   "metadata": {
    "colab": {
     "base_uri": "https://localhost:8080/"
    },
    "id": "y_KqzpJT_-Eq",
    "outputId": "2785823c-192d-4376-8a87-b71c8249b898"
   },
   "outputs": [
    {
     "name": "stdout",
     "output_type": "stream",
     "text": [
      "0, 2, 4, 6, 8, 10\n"
     ]
    }
   ],
   "source": [
    "def task2(n):\n",
    "\n",
    "    for i in range(n+1):\n",
    "        if i % 2 == 0:\n",
    "            yield str(i)\n",
    "print(', '.join([i for i in task2(10)]))"
   ]
  },
  {
   "cell_type": "markdown",
   "metadata": {
    "id": "zIshN4dtANkI"
   },
   "source": [
    "## 3. Please write a program using list comprehension to print the Fibonacci Sequence in comma separated form with a given n input by console."
   ]
  },
  {
   "cell_type": "code",
   "execution_count": 3,
   "metadata": {
    "colab": {
     "base_uri": "https://localhost:8080/"
    },
    "id": "5tHc5EBe_o_X",
    "outputId": "0e3ebae9-d9f5-4701-8633-514ccf0938b4"
   },
   "outputs": [
    {
     "name": "stdout",
     "output_type": "stream",
     "text": [
      "0,1,1,2,3,5,8,13\n"
     ]
    }
   ],
   "source": [
    "def fibo(n):\n",
    "    i = 0\n",
    "    j = 1\n",
    "    for k in range(n+1):\n",
    "        yield i\n",
    "        i,j = j, i+j\n",
    "print(','.join([str(num) for num in fibo(7)]))"
   ]
  },
  {
   "cell_type": "markdown",
   "metadata": {
    "id": "i2k3dgUDBOdl"
   },
   "source": [
    "## 4. Assuming that we have some email addresses in the \"username@companyname.com\" format, please write program to print the user name of a given email address. Both user names and company names are composed of letters only."
   ]
  },
  {
   "cell_type": "code",
   "execution_count": 4,
   "metadata": {
    "colab": {
     "base_uri": "https://localhost:8080/",
     "height": 35
    },
    "id": "VN_tY8EpBScm",
    "outputId": "da0d8c16-7220-4535-e125-dd4aef7a7bbc"
   },
   "outputs": [
    {
     "data": {
      "text/plain": [
       "'john'"
      ]
     },
     "execution_count": 4,
     "metadata": {},
     "output_type": "execute_result"
    }
   ],
   "source": [
    "def username(email: str):\n",
    "    return email.split('@')[0]\n",
    "username('john@google.com')"
   ]
  },
  {
   "cell_type": "markdown",
   "metadata": {
    "id": "fGgosYHtBcCO"
   },
   "source": [
    "# 5. Define a class named Shape and its subclass Square. The Square class has an init function which takes a length as argument. Both classes have a area function which can print the area of the shape where Shape's area is 0 by default."
   ]
  },
  {
   "cell_type": "code",
   "execution_count": 5,
   "metadata": {
    "colab": {
     "base_uri": "https://localhost:8080/"
    },
    "id": "SXEl5W7LBdUp",
    "outputId": "8b1693f7-f032-4414-c849-1ef1124a6d27"
   },
   "outputs": [
    {
     "data": {
      "text/plain": [
       "0"
      ]
     },
     "execution_count": 5,
     "metadata": {},
     "output_type": "execute_result"
    }
   ],
   "source": [
    "class Shape:\n",
    "    def __init__(self, length):\n",
    "        self.length = length\n",
    "        \n",
    "    def area(self):\n",
    "        return 0\n",
    "    \n",
    "class Square(Shape):\n",
    "    def area(self):\n",
    "        return self.length*self.length\n",
    "shape_obj = Shape(10)\n",
    "\n",
    "shape_obj.area()"
   ]
  },
  {
   "cell_type": "code",
   "execution_count": 6,
   "metadata": {
    "colab": {
     "base_uri": "https://localhost:8080/"
    },
    "id": "B0FIr-QUBkgl",
    "outputId": "c82c12bd-836d-4e13-869f-eeffa371d1ea"
   },
   "outputs": [
    {
     "data": {
      "text/plain": [
       "169"
      ]
     },
     "execution_count": 6,
     "metadata": {},
     "output_type": "execute_result"
    }
   ],
   "source": [
    "square_obj = Square(13)\n",
    "\n",
    "square_obj.area()"
   ]
  },
  {
   "cell_type": "code",
   "execution_count": null,
   "metadata": {},
   "outputs": [],
   "source": []
  }
 ],
 "metadata": {
  "colab": {
   "collapsed_sections": [],
   "provenance": []
  },
  "kernelspec": {
   "display_name": "Python 3 (ipykernel)",
   "language": "python",
   "name": "python3"
  },
  "language_info": {
   "codemirror_mode": {
    "name": "ipython",
    "version": 3
   },
   "file_extension": ".py",
   "mimetype": "text/x-python",
   "name": "python",
   "nbconvert_exporter": "python",
   "pygments_lexer": "ipython3",
   "version": "3.9.13"
  }
 },
 "nbformat": 4,
 "nbformat_minor": 1
}

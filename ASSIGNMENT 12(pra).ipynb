{
 "cells": [
  {
   "cell_type": "markdown",
   "id": "7541d14e",
   "metadata": {},
   "source": [
    "# 1. Write a Python program to Extract Unique values dictionary values?"
   ]
  },
  {
   "cell_type": "code",
   "execution_count": 1,
   "id": "e58d1dbf",
   "metadata": {},
   "outputs": [
    {
     "name": "stdout",
     "output_type": "stream",
     "text": [
      "The dictionary is : \n",
      "{'a': [6, 8, 2, 70], 'b': [22, 6, 2, 66], 'c': [7, 0, 8], 'd': [3, 19, 45], 'e': [5, 0, 80, 22]}\n",
      "The unique values are : \n",
      "[0, 2, 3, 5, 6, 7, 8, 19, 22, 45, 66, 70, 80]\n"
     ]
    }
   ],
   "source": [
    "my_dict = {'a' : [6,8,2, 70],\n",
    "   'b' : [22, 6, 2, 66],\n",
    "   'c' : [7, 0, 8],\n",
    "   'd' : [3, 19, 45],\n",
    "   'e' : [5, 0, 80, 22]}\n",
    "\n",
    "print(\"The dictionary is : \")\n",
    "print(my_dict)\n",
    "\n",
    "my_result = list(sorted({elem for val in my_dict.values() for elem in val}))\n",
    "\n",
    "print(\"The unique values are : \")\n",
    "print(my_result)"
   ]
  },
  {
   "cell_type": "markdown",
   "id": "3227898a",
   "metadata": {},
   "source": [
    "# 2. Write a Python program to find the sum of all items in a dictionary?"
   ]
  },
  {
   "cell_type": "code",
   "execution_count": 4,
   "id": "90a3ed81",
   "metadata": {},
   "outputs": [
    {
     "name": "stdout",
     "output_type": "stream",
     "text": [
      "Sum of dictionary values : 24\n"
     ]
    }
   ],
   "source": [
    "def Sum(dict):\n",
    "    sum_ = 0\n",
    "    for i in dict.values():\n",
    "        sum_ = sum_ + i\n",
    "    return sum_\n",
    "\n",
    "dict = {'r': 3, 'c':7, 'w':9, 'z':1, 'q':4}\n",
    "print(\"Sum of dictionary values :\", Sum(dict))"
   ]
  },
  {
   "cell_type": "markdown",
   "id": "48b0d488",
   "metadata": {},
   "source": [
    "# 3. Write a Python program to Merging two Dictionaries?"
   ]
  },
  {
   "cell_type": "code",
   "execution_count": 15,
   "id": "c197c684",
   "metadata": {},
   "outputs": [
    {
     "name": "stdout",
     "output_type": "stream",
     "text": [
      "{'x': 10, 'u': 8, 's': 6, 'w': 4}\n"
     ]
    }
   ],
   "source": [
    "d1 = {'x': 10, 'u': 8}\n",
    "d2 = {'s': 6, 'w': 4}\n",
    "a =d1 | d2\n",
    "print(a)"
   ]
  },
  {
   "cell_type": "markdown",
   "id": "66758c46",
   "metadata": {},
   "source": [
    "# 4. Write a Python program to convert key-values list to flat dictionary?"
   ]
  },
  {
   "cell_type": "code",
   "execution_count": 20,
   "id": "517bb260",
   "metadata": {},
   "outputs": [
    {
     "name": "stdout",
     "output_type": "stream",
     "text": [
      "Flattened dictionary: {1: 'Jan', 2: 'Feb', 3: 'March'}\n"
     ]
    }
   ],
   "source": [
    "test_dict = {'month': [1, 2, 3], 'name': ['Jan', 'Feb', 'March']}\n",
    "\n",
    "res = {test_dict['month'][i]: test_dict['name'][i] for i in range(len(test_dict['month']))}\n",
    "print(\"Flattened dictionary:\", res)"
   ]
  },
  {
   "cell_type": "markdown",
   "id": "0aa698da",
   "metadata": {},
   "source": [
    "# 5. Write a Python program to insertion at the beginning in OrderedDict?"
   ]
  },
  {
   "cell_type": "code",
   "execution_count": 23,
   "id": "40ca3335",
   "metadata": {},
   "outputs": [
    {
     "name": "stdout",
     "output_type": "stream",
     "text": [
      "The dictionary is :\n",
      "OrderedDict([('e', '1'), ('t', '2'), ('g', '4')])\n",
      "The resultant dictionary is : \n",
      "OrderedDict([('k', '7'), ('e', '1'), ('t', '2'), ('g', '4')])\n"
     ]
    }
   ],
   "source": [
    "from collections import OrderedDict\n",
    "\n",
    "my_ordered_dict = OrderedDict([('e', '1'), ('t', '2'), ('g', '4')])\n",
    "print(\"The dictionary is :\")\n",
    "print(my_ordered_dict)\n",
    "my_ordered_dict.update({'k':'7'})\n",
    "my_ordered_dict.move_to_end('k', last = False)\n",
    "\n",
    "print(\"The resultant dictionary is : \")\n",
    "print(my_ordered_dict)"
   ]
  },
  {
   "cell_type": "markdown",
   "id": "c9999a3b",
   "metadata": {},
   "source": [
    "# 6. Write a Python program to check order of character in string using OrderedDict()?"
   ]
  },
  {
   "cell_type": "code",
   "execution_count": 24,
   "id": "234fd18b",
   "metadata": {},
   "outputs": [
    {
     "name": "stdout",
     "output_type": "stream",
     "text": [
      "True\n"
     ]
    }
   ],
   "source": [
    "def check_order(string, pattern):\n",
    "    i, j = 0, 0\n",
    "    for char in string:\n",
    "        if char == pattern[j]:\n",
    "            j += 1\n",
    "        if j == len(pattern):\n",
    "            return True\n",
    "        i += 1\n",
    "    return False\n",
    "string = 'engineers stock'\n",
    "pattern = 'er'\n",
    "print(check_order(string, pattern))"
   ]
  },
  {
   "cell_type": "markdown",
   "id": "85590f07",
   "metadata": {},
   "source": [
    "# 7. Write a Python program to sort Python Dictionaries by Key or Value?"
   ]
  },
  {
   "cell_type": "code",
   "execution_count": 26,
   "id": "8a8510f4",
   "metadata": {},
   "outputs": [
    {
     "name": "stdout",
     "output_type": "stream",
     "text": [
      "{'raghu': 9, 'ram': 10, 'sanjeev': 15, 'shyam': 32, 'yogi': 2}\n"
     ]
    }
   ],
   "source": [
    "a = {'ram': 10, 'raghu': 9,\n",
    "        'sanjeev': 15, 'yogi': 2, 'shyam': 32}\n",
    " \n",
    "b = list(a.keys())\n",
    "b.sort()\n",
    "sorted_dict = {i: a[i] for i in b}\n",
    " \n",
    "print(sorted_dict)"
   ]
  },
  {
   "cell_type": "code",
   "execution_count": null,
   "id": "17da8bc4",
   "metadata": {},
   "outputs": [],
   "source": []
  }
 ],
 "metadata": {
  "kernelspec": {
   "display_name": "Python 3 (ipykernel)",
   "language": "python",
   "name": "python3"
  },
  "language_info": {
   "codemirror_mode": {
    "name": "ipython",
    "version": 3
   },
   "file_extension": ".py",
   "mimetype": "text/x-python",
   "name": "python",
   "nbconvert_exporter": "python",
   "pygments_lexer": "ipython3",
   "version": "3.9.13"
  }
 },
 "nbformat": 4,
 "nbformat_minor": 5
}

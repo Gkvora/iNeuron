{
 "cells": [
  {
   "cell_type": "markdown",
   "metadata": {
    "id": "kKQZMwmP1s2N"
   },
   "source": [
    "# Python Basic Assignment 23"
   ]
  },
  {
   "cell_type": "markdown",
   "metadata": {
    "id": "K5NDshDd14nj"
   },
   "source": [
    "## 1. What is the result of the code, and why?\n",
    "&gt;&gt;&gt; def func(a, b=6, c=8):\n",
    "\n",
    "print(a, b, c)\n",
    "\n",
    "&gt;&gt;&gt; func(1, 2)"
   ]
  },
  {
   "cell_type": "code",
   "execution_count": 1,
   "metadata": {
    "colab": {
     "base_uri": "https://localhost:8080/"
    },
    "id": "e4QfsFYU19wb",
    "outputId": "1948efa1-2098-4309-f393-3f1cd7e5c739"
   },
   "outputs": [
    {
     "name": "stdout",
     "output_type": "stream",
     "text": [
      "1 2 8\n"
     ]
    }
   ],
   "source": [
    "def func(a, b=6, c=8):\n",
    "  print(a, b, c)\n",
    "\n",
    "func(1, 2)\n",
    "\n",
    "# func(1, 2) will print 1 2 8 on the console because as per the function func definition,\n",
    "# the value of third parameter c is by default 8 if not passed explicitly"
   ]
  },
  {
   "cell_type": "markdown",
   "metadata": {
    "id": "Nm7gu8q62LrX"
   },
   "source": [
    "## 2. What is the result of this code, and why?\n",
    "&gt;&gt;&gt; def func(a, b, c=5):\n",
    "\n",
    "print(a, b, c)\n",
    "\n",
    "&gt;&gt;&gt; func(1, c=3, b=2)"
   ]
  },
  {
   "cell_type": "code",
   "execution_count": 2,
   "metadata": {
    "colab": {
     "base_uri": "https://localhost:8080/"
    },
    "id": "0MBPTEQ72N4H",
    "outputId": "b2cdca7c-6851-4b3d-c140-a3ed352e7385"
   },
   "outputs": [
    {
     "name": "stdout",
     "output_type": "stream",
     "text": [
      "1 2 3\n"
     ]
    }
   ],
   "source": [
    "def func(a, b, c=5):\n",
    "  print(a, b, c)\n",
    "\n",
    "func(1, c=3, b=2)\n",
    "\n",
    "# Thus the value passed to a is 1, b is 2, c is 3 irrespective of the order\n",
    "# of values c and b passed, as long as you are using named arguments"
   ]
  },
  {
   "cell_type": "markdown",
   "metadata": {
    "id": "K4X_jvlT2eW1"
   },
   "source": [
    "## 3. How about this code: what is its result, and why?\n",
    "&gt;&gt;&gt; def func(a, *pargs):\n",
    "\n",
    "print(a, pargs)\n",
    "\n",
    "&gt;&gt;&gt; func(1, 2, 3)"
   ]
  },
  {
   "cell_type": "code",
   "execution_count": 3,
   "metadata": {
    "colab": {
     "base_uri": "https://localhost:8080/"
    },
    "id": "kLlWJOpk2gxZ",
    "outputId": "a761cc43-4159-4319-cb2b-b68c47bd70ec"
   },
   "outputs": [
    {
     "name": "stdout",
     "output_type": "stream",
     "text": [
      "1 (2, 3)\n"
     ]
    }
   ],
   "source": [
    "def func(a, *pargs):\n",
    "  print(a, pargs)\n",
    "func(1, 2, 3)\n",
    "\n",
    "#func(1, 2, 3) will prit 1 (2, 3) to the console, because the first parameter passed to the func function will be assigned to parameter a. \n",
    "#Any other following arguments will be assigned to arbitary argument pargs which will be an iterable object of type tuple"
   ]
  },
  {
   "cell_type": "markdown",
   "metadata": {
    "id": "5mHaIn6k2pzn"
   },
   "source": [
    "## 4. What does this code print, and why?\n",
    "&gt;&gt;&gt; def func(a, **kargs):\n",
    "\n",
    "print(a, kargs)\n",
    "\n",
    "&gt;&gt;&gt; func(a=1, c=3, b=2)"
   ]
  },
  {
   "cell_type": "code",
   "execution_count": 4,
   "metadata": {
    "colab": {
     "base_uri": "https://localhost:8080/"
    },
    "id": "BwTltvk12vrv",
    "outputId": "41587193-d3bb-4601-f82c-ff083a6702db"
   },
   "outputs": [
    {
     "name": "stdout",
     "output_type": "stream",
     "text": [
      "1 {'c': 3, 'b': 2}\n"
     ]
    }
   ],
   "source": [
    "def func(a, **kargs):\n",
    "  print(a, kargs)\n",
    "func(a=1, c=3, b=2)\n",
    "\n",
    "# func(a=1, c=3, b=2) will print 1 {'c': 3, 'b': 2} because the return type of kargs is a dictionary object"
   ]
  },
  {
   "cell_type": "markdown",
   "metadata": {
    "id": "E-k2syaZ2sph"
   },
   "source": [
    "## 5. What gets printed by this, and explain?\n",
    "&gt;&gt;&gt; def func(a, b, c=8, d=5): \n",
    "\n",
    "print(a, b, c, d)\n",
    "\n",
    "&gt;&gt;&gt; func(1, *(5, 6))"
   ]
  },
  {
   "cell_type": "code",
   "execution_count": 5,
   "metadata": {
    "colab": {
     "base_uri": "https://localhost:8080/"
    },
    "id": "3vVYNlzl2_x5",
    "outputId": "94c893ff-9ffc-4c7a-b194-9b5e04700c67"
   },
   "outputs": [
    {
     "name": "stdout",
     "output_type": "stream",
     "text": [
      "1 5 6 5\n"
     ]
    }
   ],
   "source": [
    "def func(a, b, c=8, d=5):\n",
    "  print(a, b, c, d)\n",
    "func(1, *(5, 6))\n",
    "\n",
    "# func(1, (5, 6)) will print 1 5 6 5 to the console. a will take the value of 1, \n",
    "#d will default to 5 as it is not passed. (5, 6) will be read as comma seperated values and assigned to b, c respectively"
   ]
  },
  {
   "cell_type": "markdown",
   "metadata": {
    "id": "8MxTBA823K_I"
   },
   "source": [
    "## 6. what is the result of this, and explain?\n",
    "&gt;&gt;&gt; def func(a, b, c): a = 2; b[0] = &#39;x&#39;; c[&#39;a&#39;] = &#39;y&#39;\n",
    "\n",
    "&gt;&gt;&gt; l=1; m=[1]; n={&#39;a&#39;:0}\n",
    "\n",
    "&gt;&gt;&gt; func(l, m, n)\n",
    "\n",
    "&gt;&gt;&gt; l, m, n"
   ]
  },
  {
   "cell_type": "code",
   "execution_count": 6,
   "metadata": {
    "colab": {
     "base_uri": "https://localhost:8080/"
    },
    "id": "VzwCts3W3WqR",
    "outputId": "2a51cfdb-9f41-4da2-9915-44ab4e908240"
   },
   "outputs": [
    {
     "data": {
      "text/plain": [
       "(1, ['x'], {'a': 'y'})"
      ]
     },
     "execution_count": 6,
     "metadata": {},
     "output_type": "execute_result"
    }
   ],
   "source": [
    "def func(a, b, c): a = 2; b[0] = 'x'; c['a'] = 'y'\n",
    "l=1; m=[1]; n={'a':0}\n",
    "func(l, m, n)\n",
    "l, m, n\n",
    "\n",
    "# The values of l, m, n will be unchanged as the func updates the copies of these\n",
    "# values but not the original values. So console output will be: (1, [1], {'a': 0})"
   ]
  },
  {
   "cell_type": "code",
   "execution_count": null,
   "metadata": {
    "id": "XfaD4XGl1pOZ"
   },
   "outputs": [],
   "source": []
  }
 ],
 "metadata": {
  "colab": {
   "collapsed_sections": [],
   "provenance": []
  },
  "kernelspec": {
   "display_name": "Python 3 (ipykernel)",
   "language": "python",
   "name": "python3"
  },
  "language_info": {
   "codemirror_mode": {
    "name": "ipython",
    "version": 3
   },
   "file_extension": ".py",
   "mimetype": "text/x-python",
   "name": "python",
   "nbconvert_exporter": "python",
   "pygments_lexer": "ipython3",
   "version": "3.9.13"
  }
 },
 "nbformat": 4,
 "nbformat_minor": 1
}

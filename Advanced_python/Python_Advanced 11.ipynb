{
 "cells": [
  {
   "cell_type": "markdown",
   "metadata": {
    "id": "nV0cAVOpPFZW"
   },
   "source": [
    "# Python Advanced Assignment 11\n",
    " "
   ]
  },
  {
   "cell_type": "markdown",
   "metadata": {
    "id": "9-rMc7o1PJiq"
   },
   "source": [
    "# Q1. What is the concept of a metaclass?\n",
    "Ans: \n",
    "\n",
    "Metaclass in Python is a class of a class that defines how a class behaves. A class is itself a instance of Metaclass, and any Instance of Class in Python is an Instance of type metaclass. E.g. Type of of int, str, float, list, tuple and many more is of metaclass type.\n",
    "\n",
    "# Q2. What is the best way to declare a class's metaclass?\n",
    "Ans:\n",
    "\n",
    " A way to declare a class’ metaclass is by using metaclass keyword in class definition.\n",
    "\n"
   ]
  },
  {
   "cell_type": "code",
   "execution_count": 1,
   "metadata": {
    "colab": {
     "base_uri": "https://localhost:8080/"
    },
    "id": "MDeCCxA7PO04",
    "outputId": "4ee8e028-9569-4d18-91b9-6050802ece6a"
   },
   "outputs": [
    {
     "name": "stdout",
     "output_type": "stream",
     "text": [
      "<class 'type'>\n",
      "<class '__main__.meta'>\n"
     ]
    }
   ],
   "source": [
    "class meta(type):\n",
    "    pass\n",
    "class class_meta(metaclass=meta):\n",
    "    pass\n",
    "print(type(meta))\n",
    "print(type(class_meta))"
   ]
  },
  {
   "cell_type": "markdown",
   "metadata": {
    "id": "u9zK5h2DPSpA"
   },
   "source": [
    "# Q3. How do class decorators overlap with metaclasses for handling classes ?\n",
    "Ans: \n",
    "\n",
    " Anything you can do with a class decorator, you can of course do with a custom metaclasses (just apply the functionality of the \"decorator function\", i.e., the one that takes a class object and modifies it, in the course of the metaclass's ____new____ or __init__ that make the class object!).\n",
    "\n",
    "# Q4. How do class decorators overlap with metaclasses for handling instances?\n",
    "Ans:\n",
    "\n",
    " Anything you can do with a class decorator, you can of course do with a custom metaclass (just apply the functionality of the \"decorator function\", i.e., the one that takes a class object and modifies it, in the course of the metaclass's __new__ or __init__ that make the class object!)."
   ]
  },
  {
   "cell_type": "code",
   "execution_count": null,
   "metadata": {
    "id": "zfTIeqe5PB3G"
   },
   "outputs": [],
   "source": []
  }
 ],
 "metadata": {
  "colab": {
   "provenance": []
  },
  "kernelspec": {
   "display_name": "Python 3 (ipykernel)",
   "language": "python",
   "name": "python3"
  },
  "language_info": {
   "codemirror_mode": {
    "name": "ipython",
    "version": 3
   },
   "file_extension": ".py",
   "mimetype": "text/x-python",
   "name": "python",
   "nbconvert_exporter": "python",
   "pygments_lexer": "ipython3",
   "version": "3.9.13"
  }
 },
 "nbformat": 4,
 "nbformat_minor": 1
}

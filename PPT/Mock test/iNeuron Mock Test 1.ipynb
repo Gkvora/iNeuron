{
 "cells": [
  {
   "cell_type": "code",
   "execution_count": 3,
   "id": "701dd836",
   "metadata": {},
   "outputs": [],
   "source": [
    "def moveZeroes(nums):\n",
    "    l = 0 \n",
    "    for r in range(len(nums)):\n",
    "        if nums[r] != 0:\n",
    "            nums[l], nums[r] = nums[r], nums[l]\n",
    "            l += 1\n",
    "    while l < len(nums):\n",
    "        nums[l] = 0\n",
    "        l += 1\n",
    "    return nums"
   ]
  },
  {
   "cell_type": "code",
   "execution_count": 4,
   "id": "4244c666",
   "metadata": {},
   "outputs": [
    {
     "name": "stdout",
     "output_type": "stream",
     "text": [
      "Output : [1, 3, 12, 0, 0]\n",
      "Output : [0]\n"
     ]
    }
   ],
   "source": [
    "nums1 = [0, 1, 0, 3, 12]\n",
    "print(f\"Output : {moveZeroes(nums1)}\")\n",
    "\n",
    "nums2 = [0]\n",
    "print(f\"Output : {moveZeroes(nums2)}\")"
   ]
  },
  {
   "cell_type": "code",
   "execution_count": null,
   "id": "654eb155",
   "metadata": {},
   "outputs": [],
   "source": []
  }
 ],
 "metadata": {
  "kernelspec": {
   "display_name": "Python 3 (ipykernel)",
   "language": "python",
   "name": "python3"
  },
  "language_info": {
   "codemirror_mode": {
    "name": "ipython",
    "version": 3
   },
   "file_extension": ".py",
   "mimetype": "text/x-python",
   "name": "python",
   "nbconvert_exporter": "python",
   "pygments_lexer": "ipython3",
   "version": "3.9.13"
  }
 },
 "nbformat": 4,
 "nbformat_minor": 5
}

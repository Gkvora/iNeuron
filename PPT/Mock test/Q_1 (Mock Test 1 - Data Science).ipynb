{
 "cells": [
  {
   "cell_type": "markdown",
   "id": "2a7241f4",
   "metadata": {},
   "source": [
    "# 17. Write a function that takes a list of numbers as input and returns a new list containing only the even numbers from the input list. Use list comprehension to solve this problem.\n",
    "\n",
    "Example:\n",
    "\n",
    "Input: [1, 2, 3, 4, 5, 6, 7, 8, 9, 10]\n",
    "\n",
    "Output: [2, 4, 6, 8, 10]"
   ]
  },
  {
   "cell_type": "code",
   "execution_count": 12,
   "id": "e72a0486",
   "metadata": {},
   "outputs": [
    {
     "name": "stdout",
     "output_type": "stream",
     "text": [
      "[2, 4, 6, 8, 10]\n"
     ]
    }
   ],
   "source": [
    "B=[]\n",
    "def even_(A):\n",
    "    for i in A:\n",
    "        if i%2==0:\n",
    "            B.append(i)\n",
    "    return B\n",
    "A=[1, 2, 3, 4, 5, 6, 7, 8, 9, 10]\n",
    "print(even_(A))"
   ]
  },
  {
   "cell_type": "code",
   "execution_count": null,
   "id": "a94cdf40",
   "metadata": {},
   "outputs": [],
   "source": []
  }
 ],
 "metadata": {
  "kernelspec": {
   "display_name": "Python 3 (ipykernel)",
   "language": "python",
   "name": "python3"
  },
  "language_info": {
   "codemirror_mode": {
    "name": "ipython",
    "version": 3
   },
   "file_extension": ".py",
   "mimetype": "text/x-python",
   "name": "python",
   "nbconvert_exporter": "python",
   "pygments_lexer": "ipython3",
   "version": "3.9.13"
  }
 },
 "nbformat": 4,
 "nbformat_minor": 5
}

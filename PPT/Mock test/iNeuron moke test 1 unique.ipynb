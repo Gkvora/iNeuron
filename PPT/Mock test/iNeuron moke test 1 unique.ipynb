{
 "cells": [
  {
   "cell_type": "code",
   "execution_count": 3,
   "id": "1e33df9e",
   "metadata": {},
   "outputs": [],
   "source": [
    "def firstUniqChar(s):\n",
    "    char_freq = {}\n",
    "    \n",
    "    for i in range(len(s)):\n",
    "        if s[i] not in char_freq:\n",
    "            char_freq[s[i]] = 1\n",
    "        else:\n",
    "            char_freq[s[i]] += 1\n",
    "    first_non_repeating_char_idx = -1\n",
    "    \n",
    "    for i in range(len(s)):\n",
    "        if char_freq[s[i]] == 1:\n",
    "            first_non_repeating_char_idx = i\n",
    "            break\n",
    "    return first_non_repeating_char_idx"
   ]
  },
  {
   "cell_type": "code",
   "execution_count": 4,
   "id": "1fb3467e",
   "metadata": {},
   "outputs": [
    {
     "name": "stdout",
     "output_type": "stream",
     "text": [
      "Output : 0\n",
      "Output : 2\n",
      "Output : -1\n"
     ]
    }
   ],
   "source": [
    "s1 = \"leetcode\"\n",
    "print(f\"Output : {firstUniqChar(s1)}\")\n",
    "\n",
    "s2 = \"loveleetcode\"\n",
    "print(f\"Output : {firstUniqChar(s2)}\") \n",
    "\n",
    "s3 = \"aabb\"\n",
    "print(f\"Output : {firstUniqChar(s3)}\")  "
   ]
  },
  {
   "cell_type": "code",
   "execution_count": null,
   "id": "5e80d6b6",
   "metadata": {},
   "outputs": [],
   "source": []
  }
 ],
 "metadata": {
  "kernelspec": {
   "display_name": "Python 3 (ipykernel)",
   "language": "python",
   "name": "python3"
  },
  "language_info": {
   "codemirror_mode": {
    "name": "ipython",
    "version": 3
   },
   "file_extension": ".py",
   "mimetype": "text/x-python",
   "name": "python",
   "nbconvert_exporter": "python",
   "pygments_lexer": "ipython3",
   "version": "3.9.13"
  }
 },
 "nbformat": 4,
 "nbformat_minor": 5
}

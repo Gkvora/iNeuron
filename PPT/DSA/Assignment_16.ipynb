{
 "cells": [
  {
   "cell_type": "markdown",
   "metadata": {
    "id": "V16R5DC0-uiH"
   },
   "source": [
    "# Question 1\n",
    "\n",
    "Given an array, for each element find the value of the nearest element to the right which is having a frequency greater than that of the current element. If there does not exist an answer for a position, then make the value ‘-1’.\n",
    "\n",
    "**Examples:**\n",
    "\n",
    "</aside>\n",
    "\n",
    "Input: a[] = [1, 1, 2, 3, 4, 2, 1]\n",
    "Output : [-1, -1, 1, 2, 2, 1, -1]\n",
    "\n",
    "Explanation:\n",
    "Given array a[] = [1, 1, 2, 3, 4, 2, 1]\n",
    "Frequency of each element is: 3, 3, 2, 1, 1, 2, 3\n",
    "\n",
    "Lets calls Next Greater Frequency element as NGF\n",
    "1. For element a[0] = 1 which has a frequency = 3,\n",
    "   As it has frequency of 3 and no other next element\n",
    "   has frequency more than 3 so  '-1'\n",
    "2. For element a[1] = 1 it will be -1 same logic\n",
    "   like a[0]\n",
    "3. For element a[2] = 2 which has frequency = 2,\n",
    "   NGF element is 1 at position = 6  with frequency\n",
    "   of 3 > 2\n",
    "4. For element a[3] = 3 which has frequency = 1,\n",
    "   NGF element is 2 at position = 5 with frequency\n",
    "   of 2 > 1\n",
    "5. For element a[4] = 4 which has frequency = 1,\n",
    "   NGF element is 2 at position = 5 with frequency\n",
    "   of 2 > 1\n",
    "6. For element a[5] = 2 which has frequency = 2,\n",
    "   NGF element is 1 at position = 6 with frequency\n",
    "   of 3 > 2\n",
    "7. For element a[6] = 1 there is no element to its\n",
    "   right, hence -1\n",
    "\n",
    "Input : a[] = [1, 1, 1, 2, 2, 2, 2, 11, 3, 3]\n",
    "\n",
    "Output : [2, 2, 2, -1, -1, -1, -1, 3, -1, -1]"
   ]
  },
  {
   "cell_type": "code",
   "execution_count": 15,
   "metadata": {
    "id": "arv4Rv49-CwG"
   },
   "outputs": [],
   "source": [
    "def nearestGreaterFrequency(arr):\n",
    "   \n",
    "    frequency = {}\n",
    "    for num in arr:\n",
    "        frequency[num] = frequency.get(num, 0) + 1\n",
    "\n",
    "    stack = []\n",
    "    result = [-1] * len(arr)\n",
    "\n",
    "    for i, num in enumerate(arr):\n",
    "        while stack and frequency[arr[stack[-1]]] < frequency[num]:\n",
    "            result[stack.pop()] = num\n",
    "        stack.append(i)\n",
    "\n",
    "    return result\n"
   ]
  },
  {
   "cell_type": "code",
   "execution_count": 16,
   "metadata": {
    "colab": {
     "base_uri": "https://localhost:8080/"
    },
    "id": "Loe3RiMW_Iwu",
    "outputId": "bf534f71-2346-462d-b942-7f70c811e444"
   },
   "outputs": [
    {
     "name": "stdout",
     "output_type": "stream",
     "text": [
      "[-1, -1, 1, 2, 2, 1, -1]\n",
      "[2, 2, 2, -1, -1, -1, -1, 3, -1, -1]\n"
     ]
    }
   ],
   "source": [
    "arr = [1, 1, 2, 3, 4, 2, 1]\n",
    "print(nearestGreaterFrequency(arr))\n",
    "\n",
    "\n",
    "arr = [1, 1, 1, 2, 2, 2, 2, 11, 3, 3]\n",
    "print(nearestGreaterFrequency(arr))\n",
    "\n"
   ]
  },
  {
   "cell_type": "markdown",
   "metadata": {
    "id": "NOBszcVu_ivc"
   },
   "source": [
    "# Question 2\n",
    "\n",
    "Given a stack of integers, sort it in ascending order using another temporary stack.\n",
    "\n",
    "**Examples:**\n",
    "\n",
    "</aside>\n",
    "\n",
    "Input : [34, 3, 31, 98, 92, 23]\n",
    "Output : [3, 23, 31, 34, 92, 98]\n",
    "\n",
    "Input : [3, 5, 1, 4, 2, 8]\n",
    "Output : [1, 2, 3, 4, 5, 8]"
   ]
  },
  {
   "cell_type": "code",
   "execution_count": 17,
   "metadata": {
    "id": "dpeugb65_LI4"
   },
   "outputs": [],
   "source": [
    "def sortStack(stack):\n",
    "    tempStack = []\n",
    "\n",
    "    while stack:\n",
    "        temp = stack.pop()\n",
    "\n",
    "        while tempStack and tempStack[-1] > temp:\n",
    "            stack.append(tempStack.pop())\n",
    "\n",
    "        tempStack.append(temp)\n",
    "\n",
    "    return tempStack\n"
   ]
  },
  {
   "cell_type": "code",
   "execution_count": 18,
   "metadata": {
    "colab": {
     "base_uri": "https://localhost:8080/"
    },
    "id": "_4RHYtfr_rBw",
    "outputId": "690b2882-c424-4e38-f529-0a53b4911e40"
   },
   "outputs": [
    {
     "name": "stdout",
     "output_type": "stream",
     "text": [
      "[3, 23, 31, 34, 92, 98]\n",
      "[1, 2, 3, 4, 5, 8]\n"
     ]
    }
   ],
   "source": [
    "stack = [34, 3, 31, 98, 92, 23]\n",
    "sortedStack = sortStack(stack)\n",
    "print(sortedStack)\n",
    "\n",
    "\n",
    "stack = [3, 5, 1, 4, 2, 8]\n",
    "sortedStack = sortStack(stack)\n",
    "print(sortedStack)\n",
    "\n"
   ]
  },
  {
   "cell_type": "markdown",
   "metadata": {
    "id": "8zzXhLuc_xWA"
   },
   "source": [
    "# Question 3\n",
    "\n",
    "Given a stack with **push()**, **pop()**, and **empty()** operations, The task is to delete the **middle** element ****of it without using any additional data structure.\n",
    "\n",
    "Input  : Stack[] = [1, 2, 3, 4, 5]\n",
    "\n",
    "Output : Stack[] = [1, 2, 4, 5]\n",
    "\n",
    "Input  : Stack[] = [1, 2, 3, 4, 5, 6]\n",
    "\n",
    "Output : Stack[] = [1, 2, 4, 5, 6\n",
    "\n",
    "</aside>"
   ]
  },
  {
   "cell_type": "code",
   "execution_count": 19,
   "metadata": {
    "id": "BZrq22Cl_t_w"
   },
   "outputs": [],
   "source": [
    "def deleteMiddle(stack):\n",
    "    size = len(stack)\n",
    "    middle_position = (size // 2) + 1\n",
    "\n",
    "    tempStack = []\n",
    "    for _ in range(middle_position - 1):\n",
    "        tempStack.append(stack.pop())\n",
    "\n",
    "    stack.pop()\n",
    "\n",
    "    while tempStack:\n",
    "        stack.append(tempStack.pop())\n",
    "\n",
    "    return stack\n"
   ]
  },
  {
   "cell_type": "code",
   "execution_count": 20,
   "metadata": {
    "colab": {
     "base_uri": "https://localhost:8080/"
    },
    "id": "fZksiFwD_73i",
    "outputId": "2029f847-936f-40e4-8429-8fd5d068178b"
   },
   "outputs": [
    {
     "name": "stdout",
     "output_type": "stream",
     "text": [
      "[1, 2, 4, 5]\n",
      "[1, 2, 4, 5, 6]\n"
     ]
    }
   ],
   "source": [
    "stack = [1, 2, 3, 4, 5]\n",
    "modifiedStack = deleteMiddle(stack)\n",
    "print(modifiedStack)\n",
    "\n",
    "\n",
    "stack = [1, 2, 3, 4, 5, 6]\n",
    "modifiedStack = deleteMiddle(stack)\n",
    "print(modifiedStack)\n",
    "\n"
   ]
  },
  {
   "cell_type": "markdown",
   "metadata": {
    "id": "3suWeigYAAx4"
   },
   "source": [
    "# Question 4\n",
    "\n",
    "Given a Queue consisting of first **n** natural numbers (in random order). The task is to check whether the given Queue elements can be arranged in increasing order in another Queue using a stack. The operation allowed are:\n",
    "\n",
    "1. Push and pop elements from the stack\n",
    "2. Pop (Or Dequeue) from the given Queue.\n",
    "3. Push (Or Enqueue) in the another Queue.\n",
    "\n",
    "**Examples :**\n",
    "\n",
    "Input : Queue[] = { 5, 1, 2, 3, 4 }\n",
    "\n",
    "Output : Yes\n",
    "\n",
    "Pop the first element of the given Queue\n",
    "\n",
    "i.e 5. Push 5 into the stack.\n",
    "\n",
    "Now, pop all the elements of the given Queue and push them to second Queue.\n",
    "\n",
    "Now, pop element 5 in the stack and push it to the second Queue.\n",
    "\n",
    "Input : Queue[] = { 5, 1, 2, 6, 3, 4 }\n",
    "\n",
    "Output : No\n",
    "\n",
    "Push 5 to stack.\n",
    "\n",
    "Pop 1, 2 from given Queue and push it to another Queue.\n",
    "\n",
    "Pop 6 from given Queue and push to stack.\n",
    "\n",
    "Pop 3, 4 from given Queue and push to second Queue.\n",
    "\n",
    "Now, from using any of above operation, we cannot push 5 into the second Queue because it is below the 6 in the stack.\n",
    "\n",
    "</aside>"
   ]
  },
  {
   "cell_type": "code",
   "execution_count": 21,
   "metadata": {
    "id": "DyVRJj94_96N"
   },
   "outputs": [],
   "source": [
    "from queue import Queue\n",
    "\n",
    "def checkIncreasingOrder(queue):\n",
    "    stack = []\n",
    "    secondQueue = Queue()\n",
    "    expected = 1\n",
    "\n",
    "    while not queue.empty():\n",
    "        element = queue.get()\n",
    "\n",
    "        if element == expected:\n",
    "            secondQueue.put(element)\n",
    "            expected += 1\n",
    "        elif element > expected:\n",
    "            stack.append(element)\n",
    "        elif element < expected:\n",
    "            if stack and stack[-1] == expected:\n",
    "                secondQueue.put(stack.pop())\n",
    "                expected += 1\n",
    "\n",
    "    while stack:\n",
    "        if stack[-1] == expected:\n",
    "            secondQueue.put(stack.pop())\n",
    "            expected += 1\n",
    "        else:\n",
    "            break\n",
    "\n",
    "    while not queue.empty():\n",
    "        secondQueue.put(queue.get())\n",
    "\n",
    "    while not secondQueue.empty():\n",
    "        queue.put(secondQueue.get())\n",
    "\n",
    "    return \"Yes\" if expected == queue.qsize() + 1 else \"No\"\n"
   ]
  },
  {
   "cell_type": "code",
   "execution_count": 22,
   "metadata": {
    "colab": {
     "base_uri": "https://localhost:8080/"
    },
    "id": "2e7rc3FeAc14",
    "outputId": "ec4e8572-187c-4304-98e6-821813d60e55"
   },
   "outputs": [
    {
     "name": "stdout",
     "output_type": "stream",
     "text": [
      "Yes\n"
     ]
    }
   ],
   "source": [
    "queue = Queue()\n",
    "queue.put(5)\n",
    "queue.put(1)\n",
    "queue.put(2)\n",
    "queue.put(3)\n",
    "queue.put(4)\n",
    "print(checkIncreasingOrder(queue))\n",
    "\n"
   ]
  },
  {
   "cell_type": "markdown",
   "metadata": {
    "id": "9xTljbnyAkz0"
   },
   "source": [
    "# Question 5 \n",
    "\n",
    "Given a number , write a program to reverse this number using stack.\n",
    "\n",
    "**Examples:**\n",
    "\n",
    "</aside>\n",
    "\n",
    "Input : 365\n",
    "Output : 563\n",
    "\n",
    "Input : 6899\n",
    "Output : 9986"
   ]
  },
  {
   "cell_type": "code",
   "execution_count": 23,
   "metadata": {
    "id": "YnYR4OV5AftT"
   },
   "outputs": [],
   "source": [
    "def reverseNumber(number):\n",
    "    number_str = str(number)\n",
    "    stack = []\n",
    "\n",
    "    for digit in number_str:\n",
    "        stack.append(digit)\n",
    "\n",
    "\n",
    "    reversed_number_str = \"\"\n",
    "    while stack:\n",
    "        reversed_number_str += stack.pop()\n",
    "\n",
    "    reversed_number = int(reversed_number_str)\n",
    "\n",
    "    return reversed_number\n"
   ]
  },
  {
   "cell_type": "code",
   "execution_count": 24,
   "metadata": {
    "colab": {
     "base_uri": "https://localhost:8080/"
    },
    "id": "6dLhiJy_Axu9",
    "outputId": "51c3cdae-fcf9-4b29-abca-bae93b33d414"
   },
   "outputs": [
    {
     "name": "stdout",
     "output_type": "stream",
     "text": [
      "563\n",
      "9986\n"
     ]
    }
   ],
   "source": [
    "number = 365\n",
    "print(reverseNumber(number))\n",
    "\n",
    "\n",
    "number = 6899\n",
    "print(reverseNumber(number))\n",
    "\n"
   ]
  },
  {
   "cell_type": "markdown",
   "metadata": {
    "id": "c1OGiRd9A627"
   },
   "source": [
    "# Question 6 \n",
    "\n",
    "Given an integer k and a **[queue](https://www.geeksforgeeks.org/queue-data-structure/)** of integers, The task is to reverse the order of the first **k** elements of the queue, leaving the other elements in the same relative order.\n",
    "\n",
    "Only following standard operations are allowed on queue.\n",
    "\n",
    "- **enqueue(x) :** Add an item x to rear of queue\n",
    "- **dequeue() :** Remove an item from front of queue\n",
    "- **size() :** Returns number of elements in queue.\n",
    "- **front() :** Finds front item.\n",
    "</aside>"
   ]
  },
  {
   "cell_type": "code",
   "execution_count": 25,
   "metadata": {
    "id": "LbSQV1FrA0_4"
   },
   "outputs": [],
   "source": [
    "def reverseKElements(queue, k):\n",
    "    stack = []\n",
    "\n",
    "    for _ in range(k):\n",
    "        stack.append(queue.dequeue())\n",
    "\n",
    "    while stack:\n",
    "        queue.enqueue(stack.pop())\n",
    "\n",
    "    for i in range(queue.size() - k):\n",
    "        queue.enqueue(queue.dequeue())\n",
    "\n",
    "    return queue"
   ]
  },
  {
   "cell_type": "code",
   "execution_count": 26,
   "metadata": {
    "colab": {
     "base_uri": "https://localhost:8080/"
    },
    "id": "2vQBfC81BHPJ",
    "outputId": "555bba32-8099-4a59-db63-e9c1273e1375"
   },
   "outputs": [
    {
     "name": "stdout",
     "output_type": "stream",
     "text": [
      "3 2 1 4 5 "
     ]
    }
   ],
   "source": [
    "class Queue:\n",
    "    def __init__(self):\n",
    "        self.items = []\n",
    "\n",
    "    def enqueue(self, item):\n",
    "        self.items.append(item)\n",
    "\n",
    "    def dequeue(self):\n",
    "        if self.is_empty():\n",
    "            return None\n",
    "        return self.items.pop(0)\n",
    "\n",
    "    def size(self):\n",
    "        return len(self.items)\n",
    "\n",
    "    def is_empty(self):\n",
    "        return len(self.items) == 0\n",
    "\n",
    "queue = Queue()\n",
    "queue.enqueue(1)\n",
    "queue.enqueue(2)\n",
    "queue.enqueue(3)\n",
    "queue.enqueue(4)\n",
    "queue.enqueue(5)\n",
    "\n",
    "k = 3\n",
    "result = reverseKElements(queue, k)\n",
    "\n",
    "while not result.is_empty():\n",
    "    print(result.dequeue(), end=\" \")"
   ]
  },
  {
   "cell_type": "markdown",
   "metadata": {
    "id": "1pRGkLmFCXQF"
   },
   "source": [
    "# Question 8 \n",
    "\n",
    "Given an array of integers, the task is to find the maximum absolute difference between the nearest left and the right smaller element of every element in the array.\n",
    "\n",
    "**Note:** If there is no smaller element on right side or left side of any element then we take zero as the smaller element. For example for the leftmost element, the nearest smaller element on the left side is considered as 0. Similarly, for rightmost elements, the smaller element on the right side is considered as 0.\n",
    "\n",
    "**Examples:**\n",
    "\n",
    "</aside>\n",
    "\n",
    "Input : arr[] = {2, 1, 8}\n",
    "\n",
    "Output : 1\n",
    "\n",
    "Left smaller  LS[] {0, 0, 1}\n",
    "Right smaller RS[] {1, 0, 0}\n",
    "Maximum Diff of abs(LS[i] - RS[i]) = 1\n",
    "\n",
    "Input  : arr[] = {2, 4, 8, 7, 7, 9, 3}\n",
    "\n",
    "Output : 4\n",
    "\n",
    "Left smaller   LS[] = {0, 2, 4, 4, 4, 7, 2}\n",
    "\n",
    "Right smaller  RS[] = {0, 3, 7, 3, 3, 3, 0}\n",
    "Maximum Diff of abs(LS[i] - RS[i]) = 7 - 3 = 4\n"
   ]
  },
  {
   "cell_type": "code",
   "execution_count": 27,
   "metadata": {
    "id": "J0kID_jaBJnL"
   },
   "outputs": [],
   "source": [
    "def maxAbsDifference(arr):\n",
    "    n = len(arr)\n",
    "    LS = [0] * n\n",
    "    RS = [0] * n\n",
    "    stack = []\n",
    "\n",
    "    for i in range(n):\n",
    "        while stack and arr[i] < arr[stack[-1]]:\n",
    "            RS[stack.pop()] = arr[i]\n",
    "        stack.append(i)\n",
    "\n",
    "    stack.clear()\n",
    "    \n",
    "    for i in range(n - 1, -1, -1):\n",
    "        while stack and arr[i] < arr[stack[-1]]:\n",
    "            LS[stack.pop()] = arr[i]\n",
    "        stack.append(i)\n",
    "\n",
    "    maxDiff = 0\n",
    "\n",
    "    for i in range(n):\n",
    "        diff = abs(LS[i] - RS[i])\n",
    "        maxDiff = max(maxDiff, diff)\n",
    "\n",
    "    return maxDiff"
   ]
  },
  {
   "cell_type": "code",
   "execution_count": 28,
   "metadata": {
    "colab": {
     "base_uri": "https://localhost:8080/"
    },
    "id": "GREmBUJMC33z",
    "outputId": "849be71a-8ce9-42ee-b9e7-81251bf7968b"
   },
   "outputs": [
    {
     "name": "stdout",
     "output_type": "stream",
     "text": [
      "4\n"
     ]
    }
   ],
   "source": [
    "arr = [2, 4, 8, 7, 7, 9, 3]\n",
    "result = maxAbsDifference(arr)\n",
    "print(result)"
   ]
  },
  {
   "cell_type": "code",
   "execution_count": null,
   "metadata": {
    "id": "ahykKRwbC5o1"
   },
   "outputs": [],
   "source": []
  }
 ],
 "metadata": {
  "colab": {
   "authorship_tag": "ABX9TyPM3xqMQPlCR7cEEih0trnc",
   "include_colab_link": true,
   "provenance": []
  },
  "kernelspec": {
   "display_name": "Python 3 (ipykernel)",
   "language": "python",
   "name": "python3"
  },
  "language_info": {
   "codemirror_mode": {
    "name": "ipython",
    "version": 3
   },
   "file_extension": ".py",
   "mimetype": "text/x-python",
   "name": "python",
   "nbconvert_exporter": "python",
   "pygments_lexer": "ipython3",
   "version": "3.9.13"
  }
 },
 "nbformat": 4,
 "nbformat_minor": 1
}

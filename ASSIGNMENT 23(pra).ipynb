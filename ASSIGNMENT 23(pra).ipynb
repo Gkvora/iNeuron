{
 "cells": [
  {
   "cell_type": "markdown",
   "metadata": {
    "id": "-SIU_PqjVpVG"
   },
   "source": [
    "# Python Programming Assignment 23"
   ]
  },
  {
   "cell_type": "markdown",
   "metadata": {
    "id": "8ZLEynrGVsue"
   },
   "source": [
    "## 1. Create a function that takes a number as an argument and returns True or False depending on whether the number is symmetrical or not. A number is symmetrical when it is the same as its reverse."
   ]
  },
  {
   "cell_type": "code",
   "execution_count": 1,
   "metadata": {
    "colab": {
     "base_uri": "https://localhost:8080/"
    },
    "id": "vb309vwqV1r1",
    "outputId": "300a5403-d7ce-44f9-a78b-77bcff0fffdf"
   },
   "outputs": [
    {
     "name": "stdout",
     "output_type": "stream",
     "text": [
      "True\n",
      "False\n",
      "True\n",
      "False\n",
      "True\n"
     ]
    }
   ],
   "source": [
    "def is_symmetrical(num):\n",
    "    currentDigit = reversedDigit = 0\n",
    "    remainingNum = num\n",
    "    while(remainingNum != 0):\n",
    "        currentDigit = remainingNum % 10\n",
    "        reversedDigit = reversedDigit * 10 + currentDigit\n",
    "        remainingNum = remainingNum // 10\n",
    "\n",
    "    if reversedDigit == num:\n",
    "        return True\n",
    "    else:\n",
    "        return False\n",
    "print(is_symmetrical(7227))\n",
    "print(is_symmetrical(12567))\n",
    "print(is_symmetrical(44444444))\n",
    "print(is_symmetrical(9939))\n",
    "print(is_symmetrical(1112111))"
   ]
  },
  {
   "cell_type": "markdown",
   "metadata": {
    "id": "cu1H0MjmV5Ko"
   },
   "source": [
    "## 2. Given a string of numbers separated by a comma and space, return the product of the numbers."
   ]
  },
  {
   "cell_type": "code",
   "execution_count": 2,
   "metadata": {
    "colab": {
     "base_uri": "https://localhost:8080/"
    },
    "id": "5_muAUfTV7WQ",
    "outputId": "f198d8d1-1487-4590-da36-a43cff02e7fa"
   },
   "outputs": [
    {
     "name": "stdout",
     "output_type": "stream",
     "text": [
      "6\n",
      "24\n",
      "0\n",
      "-20\n"
     ]
    }
   ],
   "source": [
    "def multiply_nums(s):\n",
    "    product = 1\n",
    "    for i in s.split(','):\n",
    "        product = product * int(i)\n",
    "    return product\n",
    "print(multiply_nums('2, 3'))\n",
    "print(multiply_nums('1, 2, 3, 4'))\n",
    "print(multiply_nums('54, 75, 453, 0'))\n",
    "print(multiply_nums('10, -2'))"
   ]
  },
  {
   "cell_type": "markdown",
   "metadata": {
    "id": "vNrkhpRvV-b0"
   },
   "source": [
    "## 3. Create a function that squares every digit of a number."
   ]
  },
  {
   "cell_type": "code",
   "execution_count": 3,
   "metadata": {
    "colab": {
     "base_uri": "https://localhost:8080/"
    },
    "id": "BLFNi_VmWAur",
    "outputId": "ee36c586-56e8-41f9-ae16-f2557579e6e7"
   },
   "outputs": [
    {
     "name": "stdout",
     "output_type": "stream",
     "text": [
      "811181\n",
      "416649\n",
      "9414\n"
     ]
    }
   ],
   "source": [
    "def square_digits(num):\n",
    "    res = \"\"\n",
    "    for c in str(num):\n",
    "        res += str(int(c)**2)\n",
    "    return int(res)\n",
    "print(square_digits(9119))\n",
    "print(square_digits(2483))\n",
    "print(square_digits(3212))"
   ]
  },
  {
   "cell_type": "markdown",
   "metadata": {
    "id": "ZWetq8QcWDrx"
   },
   "source": [
    "## 4. Create a function that sorts a list and removes all duplicate items from it."
   ]
  },
  {
   "cell_type": "code",
   "execution_count": 4,
   "metadata": {
    "colab": {
     "base_uri": "https://localhost:8080/"
    },
    "id": "oFous5wBWGUB",
    "outputId": "6351291e-5ac5-428f-fd2f-212ffa7dafc4"
   },
   "outputs": [
    {
     "name": "stdout",
     "output_type": "stream",
     "text": [
      "[1, 3, 5]\n",
      "[4]\n",
      "[5, 7, 8, 9, 10, 15]\n",
      "[1, 2, 3]\n"
     ]
    }
   ],
   "source": [
    "def setify(lst):\n",
    "    return list(set(lst))\n",
    "print(setify([1, 3, 3, 5, 5]))\n",
    "print(setify([4, 4, 4, 4]))\n",
    "print(setify([5, 7, 8, 9, 10, 15]))\n",
    "print(setify([3, 3, 3, 2, 1]))"
   ]
  },
  {
   "cell_type": "markdown",
   "metadata": {
    "id": "5mgewXvbWJOt"
   },
   "source": [
    "## 5. Create a function that returns the mean of all digits."
   ]
  },
  {
   "cell_type": "code",
   "execution_count": 5,
   "metadata": {
    "colab": {
     "base_uri": "https://localhost:8080/"
    },
    "id": "evuN3rb0WL7D",
    "outputId": "75703041-7912-488e-d511-fbad4150e052"
   },
   "outputs": [
    {
     "name": "stdout",
     "output_type": "stream",
     "text": [
      "3\n",
      "3\n",
      "6\n"
     ]
    }
   ],
   "source": [
    "def mean(n): \n",
    "    N = len(str(n)) \n",
    "    sum = mean = 0\n",
    "    \n",
    "    for digit in str(n):\n",
    "        sum += int(digit)       \n",
    "    return int(sum/N)\n",
    "print(mean(42))\n",
    "print(mean(12345))\n",
    "print(mean(666))"
   ]
  },
  {
   "cell_type": "code",
   "execution_count": null,
   "metadata": {
    "id": "InWMVQpxVlqE"
   },
   "outputs": [],
   "source": []
  }
 ],
 "metadata": {
  "colab": {
   "collapsed_sections": [],
   "provenance": []
  },
  "kernelspec": {
   "display_name": "Python 3 (ipykernel)",
   "language": "python",
   "name": "python3"
  },
  "language_info": {
   "codemirror_mode": {
    "name": "ipython",
    "version": 3
   },
   "file_extension": ".py",
   "mimetype": "text/x-python",
   "name": "python",
   "nbconvert_exporter": "python",
   "pygments_lexer": "ipython3",
   "version": "3.9.13"
  }
 },
 "nbformat": 4,
 "nbformat_minor": 1
}

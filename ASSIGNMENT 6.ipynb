{
 "cells": [
  {
   "cell_type": "markdown",
   "metadata": {
    "id": "OPEwj4dKC2-T"
   },
   "source": [
    "# Python Basic Assignment 6"
   ]
  },
  {
   "cell_type": "markdown",
   "metadata": {
    "id": "KqnPfSv8C5BU"
   },
   "source": [
    "## 1. What are escape characters, and how do you use them?\n",
    "Ans :=\n",
    "\n",
    "In Python strings, the backslash() is a special character, also called the \"escape\" character. It is used in representing certain whitespace characters: \"\\t\" is a tab, \"\\n\" is a newline, and \"\\r\" is a carriage return\n",
    "\n",
    "prefixing a special character with() turns it into an ordinary character. This is called \"escaping\". For example, \" \\' \" is the single quote character. 'It\\'s Sunday' therefore is a valid string and equivalent to \"It's Sunday\".\n"
   ]
  },
  {
   "cell_type": "markdown",
   "metadata": {
    "id": "v598ygsQDJgx"
   },
   "source": [
    "## 2. What do the escape characters n and t stand for?\n",
    "Ans :=\n",
    "\n",
    "\"\\t\" is for tab space, \"\\n\" is for a newline"
   ]
  },
  {
   "cell_type": "markdown",
   "metadata": {
    "id": "T-RNlysbDQMl"
   },
   "source": [
    "## 3. What is the way to include backslash characters in a string?\n",
    "You need to append backslash with another backslash to include the backslash in your strings\n",
    "\n",
    "eg"
   ]
  },
  {
   "cell_type": "code",
   "execution_count": 1,
   "metadata": {
    "colab": {
     "base_uri": "https://localhost:8080/"
    },
    "id": "uQPHUgwCDUXU",
    "outputId": "5332702b-b533-4f93-917a-abe901d62b23"
   },
   "outputs": [
    {
     "name": "stdout",
     "output_type": "stream",
     "text": [
      "it's a back slash \\ in a sentence\n"
     ]
    }
   ],
   "source": [
    "print(\"it's a back slash \\ in a sentence\")"
   ]
  },
  {
   "cell_type": "code",
   "execution_count": 2,
   "metadata": {
    "colab": {
     "base_uri": "https://localhost:8080/"
    },
    "id": "Prt3ntqSCyxo",
    "outputId": "203e3783-79a7-451c-f11e-12eec1c17a2f"
   },
   "outputs": [
    {
     "name": "stdout",
     "output_type": "stream",
     "text": [
      "it's a back slash \\ in a sentence\n"
     ]
    }
   ],
   "source": [
    "print(\"it's a back slash \\\\ in a sentence\")"
   ]
  },
  {
   "cell_type": "code",
   "execution_count": 3,
   "metadata": {
    "colab": {
     "base_uri": "https://localhost:8080/"
    },
    "id": "zpxUSpCADaUj",
    "outputId": "e80e1c96-dc56-4cf2-8747-dd6901fb9309"
   },
   "outputs": [
    {
     "name": "stdout",
     "output_type": "stream",
     "text": [
      "it's a back slash \\\\ in a sentence\n"
     ]
    }
   ],
   "source": [
    "print(\"it's a back slash \\\\\\ in a sentence\")"
   ]
  },
  {
   "cell_type": "markdown",
   "metadata": {
    "id": "InW9imqWDeEv"
   },
   "source": [
    "## 4. The string \"Howl's Moving Castle\" is a correct value. Why isn't the single quote character in the word Howl's not escaped a problem?\n",
    "The string \"Howl's Moving Castle\" is a correct value. Why isn't the single quote character in the word Howl's not escaped a problem?\n",
    "\n"
   ]
  },
  {
   "cell_type": "markdown",
   "metadata": {
    "id": "lsp0Nr2tDlIc"
   },
   "source": [
    "\n",
    "## 5. How do you write a string of newlines if you don't want to use the n character?\n",
    "we can use Pythons multi line strings that done using triple quotes\n",
    "\n",
    "Example:"
   ]
  },
  {
   "cell_type": "code",
   "execution_count": 4,
   "metadata": {
    "id": "jYFN0bf9DrUf"
   },
   "outputs": [],
   "source": [
    "string_multiline = \"\"\"This is my\n",
    "multi line\n",
    "string by\n",
    "name string_multiline\"\"\""
   ]
  },
  {
   "cell_type": "code",
   "execution_count": 5,
   "metadata": {
    "colab": {
     "base_uri": "https://localhost:8080/",
     "height": 35
    },
    "id": "ZwH4-qubDuup",
    "outputId": "5aba3791-db39-4b2e-ebcd-28c8b00764d7"
   },
   "outputs": [
    {
     "data": {
      "text/plain": [
       "'This is my\\nmulti line\\nstring by\\nname string_multiline'"
      ]
     },
     "execution_count": 5,
     "metadata": {},
     "output_type": "execute_result"
    }
   ],
   "source": [
    "string_multiline"
   ]
  },
  {
   "cell_type": "markdown",
   "metadata": {
    "id": "825aai_FD0RK"
   },
   "source": [
    "\n",
    "## 6. What are the values of the given expressions?\n",
    "1. 'Hello, world!'[1] 'e'\n",
    "\n",
    "2. 'Hello, world!'[0:5] 'Hello'\n",
    "\n",
    "3. 'Hello, world!'[:5] 'Hello'\n",
    "\n",
    "4. 'Hello, world!'[3:] 'lo, world!'"
   ]
  },
  {
   "cell_type": "code",
   "execution_count": 6,
   "metadata": {
    "colab": {
     "base_uri": "https://localhost:8080/",
     "height": 35
    },
    "id": "KIszYHDuD-AI",
    "outputId": "0b34402c-4a0d-4a47-a21e-0d014570418f"
   },
   "outputs": [
    {
     "data": {
      "text/plain": [
       "'e'"
      ]
     },
     "execution_count": 6,
     "metadata": {},
     "output_type": "execute_result"
    }
   ],
   "source": [
    "'Hello, world!'[1]"
   ]
  },
  {
   "cell_type": "code",
   "execution_count": 7,
   "metadata": {
    "colab": {
     "base_uri": "https://localhost:8080/",
     "height": 35
    },
    "id": "FGn0nhcqD-Ju",
    "outputId": "e720ab30-a51d-43cc-d603-33896ebe0ac7"
   },
   "outputs": [
    {
     "data": {
      "text/plain": [
       "'Hello'"
      ]
     },
     "execution_count": 7,
     "metadata": {},
     "output_type": "execute_result"
    }
   ],
   "source": [
    "'Hello, world!'[0:5]"
   ]
  },
  {
   "cell_type": "code",
   "execution_count": 8,
   "metadata": {
    "colab": {
     "base_uri": "https://localhost:8080/",
     "height": 35
    },
    "id": "4sbMy2T1D-SU",
    "outputId": "0c256177-2fd9-45f1-d6b4-3e5d097a5acf"
   },
   "outputs": [
    {
     "data": {
      "text/plain": [
       "'Hello'"
      ]
     },
     "execution_count": 8,
     "metadata": {},
     "output_type": "execute_result"
    }
   ],
   "source": [
    "'Hello, world!'[:5]"
   ]
  },
  {
   "cell_type": "code",
   "execution_count": 9,
   "metadata": {
    "colab": {
     "base_uri": "https://localhost:8080/",
     "height": 35
    },
    "id": "cbLT10FQD-cm",
    "outputId": "c1218ba8-8872-4998-d788-0ebf604ce52a"
   },
   "outputs": [
    {
     "data": {
      "text/plain": [
       "'lo, world!'"
      ]
     },
     "execution_count": 9,
     "metadata": {},
     "output_type": "execute_result"
    }
   ],
   "source": [
    "'Hello, world!'[3:]"
   ]
  },
  {
   "cell_type": "markdown",
   "metadata": {
    "id": "rorGevl4EOAA"
   },
   "source": [
    "\n",
    "## 7. What are the values of the following expressions?\n",
    "*   'Hello'.upper() -> 'HELLO'\n",
    "*   'Hello'.upper().isupper() -> True\n",
    "*   'Hello'.upper().lower() -> 'hello'\n",
    "\n"
   ]
  },
  {
   "cell_type": "code",
   "execution_count": 10,
   "metadata": {
    "colab": {
     "base_uri": "https://localhost:8080/",
     "height": 35
    },
    "id": "cxdsWrV9EYG6",
    "outputId": "1c61addb-69c1-41ea-b8ce-9755a8e891ea"
   },
   "outputs": [
    {
     "data": {
      "text/plain": [
       "'HELLO'"
      ]
     },
     "execution_count": 10,
     "metadata": {},
     "output_type": "execute_result"
    }
   ],
   "source": [
    "'Hello'.upper() "
   ]
  },
  {
   "cell_type": "code",
   "execution_count": 11,
   "metadata": {
    "colab": {
     "base_uri": "https://localhost:8080/"
    },
    "id": "Bd9vuu3rEcKx",
    "outputId": "312c2706-ce57-41e7-892f-81e01f849ba9"
   },
   "outputs": [
    {
     "data": {
      "text/plain": [
       "True"
      ]
     },
     "execution_count": 11,
     "metadata": {},
     "output_type": "execute_result"
    }
   ],
   "source": [
    "'Hello'.upper().isupper()"
   ]
  },
  {
   "cell_type": "code",
   "execution_count": 12,
   "metadata": {
    "colab": {
     "base_uri": "https://localhost:8080/",
     "height": 35
    },
    "id": "do7JkfdMEfOX",
    "outputId": "79d15de4-3fca-4386-eb51-1b7692b28248"
   },
   "outputs": [
    {
     "data": {
      "text/plain": [
       "'hello'"
      ]
     },
     "execution_count": 12,
     "metadata": {},
     "output_type": "execute_result"
    }
   ],
   "source": [
    "'Hello'.upper().lower()"
   ]
  },
  {
   "cell_type": "markdown",
   "metadata": {
    "id": "EasYnk4_EjaE"
   },
   "source": [
    "\n",
    "## 8. What are the values of the following expressions?\n",
    "\n",
    "*   'Remember, remember, the fifth of July.'.split() -> ['Remember,', 'remember,', 'the', 'fifth', 'of', 'July.']\n",
    "*   '-'.join('There can only one.'.split()) -> 'There-can-only-one.'\n",
    "\n"
   ]
  },
  {
   "cell_type": "code",
   "execution_count": 13,
   "metadata": {
    "colab": {
     "base_uri": "https://localhost:8080/"
    },
    "id": "Hi7vI4A5Eih0",
    "outputId": "a841b044-cc6a-4535-d1ba-0faaaee24f87"
   },
   "outputs": [
    {
     "data": {
      "text/plain": [
       "['Remember,', 'remember,', 'the', 'fifth', 'of', 'July.']"
      ]
     },
     "execution_count": 13,
     "metadata": {},
     "output_type": "execute_result"
    }
   ],
   "source": [
    "'Remember, remember, the fifth of July.'.split()"
   ]
  },
  {
   "cell_type": "code",
   "execution_count": 14,
   "metadata": {
    "colab": {
     "base_uri": "https://localhost:8080/",
     "height": 35
    },
    "id": "30m2N6ieE0HR",
    "outputId": "6d770207-1c1b-45c0-ff50-51b38de5b979"
   },
   "outputs": [
    {
     "data": {
      "text/plain": [
       "'There-can-only-one.'"
      ]
     },
     "execution_count": 14,
     "metadata": {},
     "output_type": "execute_result"
    }
   ],
   "source": [
    "'-'.join('There can only one.'.split())"
   ]
  },
  {
   "cell_type": "markdown",
   "metadata": {
    "id": "m37ZohOJE3E_"
   },
   "source": [
    "\n",
    "## 9. What are the methods for right-justifying, left-justifying, and centering a string?"
   ]
  },
  {
   "cell_type": "code",
   "execution_count": 15,
   "metadata": {
    "colab": {
     "base_uri": "https://localhost:8080/",
     "height": 35
    },
    "id": "ZDjt8W0mE-l-",
    "outputId": "f22b7594-0e9b-422f-acd8-fad59db768c9"
   },
   "outputs": [
    {
     "data": {
      "text/plain": [
       "'Data Scienctist;;;;'"
      ]
     },
     "execution_count": 15,
     "metadata": {},
     "output_type": "execute_result"
    }
   ],
   "source": [
    "# left justified\n",
    "str1 =\"Data Scienctist\"\n",
    "str1.ljust(19,\";\")"
   ]
  },
  {
   "cell_type": "code",
   "execution_count": 16,
   "metadata": {
    "colab": {
     "base_uri": "https://localhost:8080/",
     "height": 35
    },
    "id": "iZ06oKmVFA3L",
    "outputId": "6ac70f96-f46c-404a-9980-f666b9d62afa"
   },
   "outputs": [
    {
     "data": {
      "text/plain": [
       "'-------Data Scienctist'"
      ]
     },
     "execution_count": 16,
     "metadata": {},
     "output_type": "execute_result"
    }
   ],
   "source": [
    "# right justified\n",
    "str1 =\"Data Scienctist\"\n",
    "str1.rjust(22,\"-\")"
   ]
  },
  {
   "cell_type": "code",
   "execution_count": 17,
   "metadata": {
    "colab": {
     "base_uri": "https://localhost:8080/",
     "height": 35
    },
    "id": "FCt5O3sAFBBW",
    "outputId": "e69ec317-38db-41eb-f48c-bb97903a8568"
   },
   "outputs": [
    {
     "data": {
      "text/plain": [
       "'*****************Center*****************'"
      ]
     },
     "execution_count": 17,
     "metadata": {},
     "output_type": "execute_result"
    }
   ],
   "source": [
    "# center justified\n",
    "str1 =\"Center\"\n",
    "str1.center(40,'*')"
   ]
  },
  {
   "cell_type": "markdown",
   "metadata": {
    "id": "zTpujL5-E3Qb"
   },
   "source": [
    "\n",
    "# 10. What is the best way to remove whitespace characters from the start or end?\n",
    "We can use:\n",
    "\n",
    "1. lstrip() -> removes white spaces from left of the string\n",
    "\n",
    "2. rstrip() -> removes whitespaces from right of the string"
   ]
  },
  {
   "cell_type": "code",
   "execution_count": 18,
   "metadata": {
    "colab": {
     "base_uri": "https://localhost:8080/"
    },
    "id": "DY1P8ZLpFXxV",
    "outputId": "11fe7b61-8415-4f98-90b1-fd1bf5765144"
   },
   "outputs": [
    {
     "name": "stdout",
     "output_type": "stream",
     "text": [
      "                    hello         \n",
      "hello         \n"
     ]
    }
   ],
   "source": [
    "str1 = \"                    hello         \"\n",
    "print(str1)\n",
    "print(str1.lstrip())"
   ]
  },
  {
   "cell_type": "code",
   "execution_count": 19,
   "metadata": {
    "colab": {
     "base_uri": "https://localhost:8080/"
    },
    "id": "_2j8clYFFazG",
    "outputId": "845875b6-57bb-4631-d58e-ce49a0c020e8"
   },
   "outputs": [
    {
     "name": "stdout",
     "output_type": "stream",
     "text": [
      "hello                \n",
      "hello\n"
     ]
    }
   ],
   "source": [
    "str1 = \"hello                \"\n",
    "print(str1)\n",
    "print(str1.rstrip())"
   ]
  }
 ],
 "metadata": {
  "colab": {
   "collapsed_sections": [],
   "provenance": []
  },
  "kernelspec": {
   "display_name": "Python 3 (ipykernel)",
   "language": "python",
   "name": "python3"
  },
  "language_info": {
   "codemirror_mode": {
    "name": "ipython",
    "version": 3
   },
   "file_extension": ".py",
   "mimetype": "text/x-python",
   "name": "python",
   "nbconvert_exporter": "python",
   "pygments_lexer": "ipython3",
   "version": "3.9.13"
  }
 },
 "nbformat": 4,
 "nbformat_minor": 1
}

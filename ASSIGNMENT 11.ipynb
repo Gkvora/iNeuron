{
 "cells": [
  {
   "cell_type": "markdown",
   "metadata": {
    "id": "TAN1iCcYtWnX"
   },
   "source": [
    "# Python Basic Assignment 11"
   ]
  },
  {
   "cell_type": "markdown",
   "metadata": {
    "id": "aw6MPAuJtZeS"
   },
   "source": [
    "## 1.Create an assert statement that throws an AssertionError if the variable spam is a negative integer.\n",
    "Ans:\n",
    "\n",
    "assert spam > 0, \"Negative not allowed!\""
   ]
  },
  {
   "cell_type": "markdown",
   "metadata": {
    "id": "u9AD-FhqtcYG"
   },
   "source": [
    "## 2.Write an assert statement that triggers an AssertionError if the variables eggs and bacon contain strings that are the same as each other, even if their cases are different (that is, 'hello' and 'hello' are considered the same, and 'goodbye' and 'GOODbye' are also considered the same).\n",
    "Ans:\n",
    "\n",
    "assert eggs.lower()!=bacon.lower(), \"eggs and bacon shouldn't be same!\""
   ]
  },
  {
   "cell_type": "markdown",
   "metadata": {
    "id": "WgmABf3Lti2D"
   },
   "source": [
    "## 3.Create an assert statement that throws an AssertionError every time.\n",
    "Ans:\n",
    "\n",
    "assert False"
   ]
  },
  {
   "cell_type": "markdown",
   "metadata": {
    "id": "FFj8Ke0xtf2l"
   },
   "source": [
    "## 4.What are the two lines that must be present in your software in order to call logging.debug()?\n",
    "Ans:\n",
    "\n",
    "import logging\n",
    "\n",
    "logging.basicConfig(fiename, level=logging.DEBUG)\n",
    "\n"
   ]
  },
  {
   "cell_type": "markdown",
   "metadata": {
    "id": "I0-otZLutu-h"
   },
   "source": [
    "## 5.What are the two lines that your program must have in order to have logging.debug() send a logging message to a file named programLog.txt?\n",
    "Ans:\n",
    "\n",
    "import logging\n",
    "\n",
    "logging.basicConfig(fiename, level=logging.DEBUG)"
   ]
  },
  {
   "cell_type": "markdown",
   "metadata": {
    "id": "dvVP3XkxtrfH"
   },
   "source": [
    "## 6.What are the five levels of logging?\n",
    "Ans:\n",
    "logging.error()\n",
    "\n",
    "logging.warning()\n",
    "\n",
    "logging.info()\n",
    "\n",
    "logging.critical()\n",
    "\n",
    "logging.debug()"
   ]
  },
  {
   "cell_type": "markdown",
   "metadata": {
    "id": "CRAfxUpjt3Z1"
   },
   "source": [
    "## 7.What line of code would you add to your software to disable all logging messages?\n",
    "Ans:\n",
    "\n",
    "logging.disable(level)\n",
    "\n"
   ]
  },
  {
   "cell_type": "markdown",
   "metadata": {
    "id": "QDSzALP2uCiB"
   },
   "source": [
    "## 8.Why is using logging messages better than using print() to display the same message?\n",
    "Ans:\n",
    "\n",
    "It helps to see where and when a logging call is being made from\n",
    "\n",
    "we can differentiate logging based on severity\n",
    "\n",
    "print does not have any of them"
   ]
  },
  {
   "cell_type": "markdown",
   "metadata": {
    "id": "fDYUBjWGuELw"
   },
   "source": [
    "## 9.What are the differences between the Step Over, Step In, and Step Out buttons in the debugger?\n",
    "Ans:\n",
    "\n",
    "Step In will dig into method calls.\n",
    "\n",
    "Step Over will just execute the line and go to the next line.\n",
    "\n",
    "Step Out Steps out of the current method and takes you to the caller method."
   ]
  },
  {
   "cell_type": "markdown",
   "metadata": {
    "id": "Y0pIlEdpuIyP"
   },
   "source": [
    "## 10.After you click Continue, when will the debugger stop ?\n",
    "Ans:\n",
    "\n",
    "when it has reached the end of a program or a breakpoint"
   ]
  },
  {
   "cell_type": "markdown",
   "metadata": {
    "id": "JXfvJh1euMGI"
   },
   "source": [
    "## 11.What is the concept of a breakpoint?\n",
    "Ans:\n",
    "\n",
    "An intentional stopping point or pause put into program for debugging purpose."
   ]
  },
  {
   "cell_type": "markdown",
   "metadata": {
    "id": "iMNU2EwOt4XF"
   },
   "source": []
  },
  {
   "cell_type": "code",
   "execution_count": null,
   "metadata": {
    "id": "SLKAdFQktN4s"
   },
   "outputs": [],
   "source": []
  }
 ],
 "metadata": {
  "colab": {
   "collapsed_sections": [],
   "provenance": []
  },
  "kernelspec": {
   "display_name": "Python 3 (ipykernel)",
   "language": "python",
   "name": "python3"
  },
  "language_info": {
   "codemirror_mode": {
    "name": "ipython",
    "version": 3
   },
   "file_extension": ".py",
   "mimetype": "text/x-python",
   "name": "python",
   "nbconvert_exporter": "python",
   "pygments_lexer": "ipython3",
   "version": "3.9.13"
  }
 },
 "nbformat": 4,
 "nbformat_minor": 1
}

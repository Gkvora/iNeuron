{
 "cells": [
  {
   "cell_type": "markdown",
   "metadata": {
    "id": "jX0gWeQCBy47"
   },
   "source": [
    "# Python Programming Assignment 16"
   ]
  },
  {
   "cell_type": "markdown",
   "metadata": {
    "id": "8vPz5_84B1VS"
   },
   "source": [
    "## 1. Write a function that stutters a word as if someone is struggling to read it. The first two letters are repeated twice with an ellipsis ... and space after each, and then the word is pronounced with a question mark ?. Examples stutter('incredible') ➞ 'in... in... incredible?' stutter('enthusiastic') ➞ 'en... en... enthusiastic?' stutter('outstanding') ➞ 'ou... ou... outstanding?'\n",
    "Hint :- Assume all input is in lower case and at least two characters long."
   ]
  },
  {
   "cell_type": "code",
   "execution_count": 1,
   "metadata": {
    "colab": {
     "base_uri": "https://localhost:8080/"
    },
    "id": "7yo8yjKfB_Kf",
    "outputId": "92876348-c409-49ca-e743-b42bea19b296"
   },
   "outputs": [
    {
     "name": "stdout",
     "output_type": "stream",
     "text": [
      "in... in... incredible?\n",
      "en... en... enthusiastic?\n",
      "ou... ou... outstanding?\n"
     ]
    }
   ],
   "source": [
    "def stutter(word:str):\n",
    "    print(f\"{word[:2]}... {word[:2]}... {word}?\")\n",
    "    \n",
    "stutter('incredible') \n",
    "stutter('enthusiastic') \n",
    "stutter('outstanding')"
   ]
  },
  {
   "cell_type": "markdown",
   "metadata": {
    "id": "cyniA8YACCmQ"
   },
   "source": [
    "## 2. Create a function that takes an angle in radians and returns the corresponding angle in degrees rounded to one decimal place."
   ]
  },
  {
   "cell_type": "code",
   "execution_count": 2,
   "metadata": {
    "colab": {
     "base_uri": "https://localhost:8080/"
    },
    "id": "acDabc6PBrHL",
    "outputId": "34d3f117-027f-4212-e702-102595bd2e42"
   },
   "outputs": [
    {
     "name": "stdout",
     "output_type": "stream",
     "text": [
      "57.3\n",
      "1145.9\n",
      "2864.8\n"
     ]
    }
   ],
   "source": [
    "def radians_to_degrees(rads):\n",
    "    return round(57.295779513 * rads, 1)\n",
    "\n",
    "print(radians_to_degrees(1))\n",
    "print(radians_to_degrees(20))\n",
    "print(radians_to_degrees(50))"
   ]
  },
  {
   "cell_type": "markdown",
   "metadata": {
    "id": "3tFdhfnICJ9Y"
   },
   "source": [
    "## 3. In this challenge, establish if a given integer num is a Curzon number. If 1 plus 2 elevated to num is exactly divisible by 1 plus 2 multiplied by num, then num is a Curzon number. Given a non-negative integer num, implement a function that returns True if num is a Curzon number, or False otherwise."
   ]
  },
  {
   "cell_type": "code",
   "execution_count": 3,
   "metadata": {
    "colab": {
     "base_uri": "https://localhost:8080/"
    },
    "id": "pPhwLlYICQNv",
    "outputId": "79b9b549-2a99-4f1b-d601-7261e444f5ae"
   },
   "outputs": [
    {
     "name": "stdout",
     "output_type": "stream",
     "text": [
      "True\n",
      "False\n",
      "True\n"
     ]
    }
   ],
   "source": [
    "def is_curzon(n):\n",
    "    \n",
    "    if (1 + 2 ** n) % (1 + 2*n) == 0:\n",
    "        return True\n",
    "    \n",
    "    return False\n",
    "\n",
    "print(is_curzon(5)) \n",
    "print(is_curzon(10)) \n",
    "print(is_curzon(14)) "
   ]
  },
  {
   "cell_type": "markdown",
   "metadata": {
    "id": "KFzBx7oDCVvu"
   },
   "source": [
    "## 4. Given the side length x find the area of a hexagon."
   ]
  },
  {
   "cell_type": "code",
   "execution_count": 4,
   "metadata": {
    "colab": {
     "base_uri": "https://localhost:8080/"
    },
    "id": "flgQW2R4CYQl",
    "outputId": "ef4d4b82-1480-43eb-8912-8b2a7b400827"
   },
   "outputs": [
    {
     "name": "stdout",
     "output_type": "stream",
     "text": [
      "2.6\n",
      "10.4\n",
      "23.4\n"
     ]
    }
   ],
   "source": [
    "import math\n",
    "\n",
    "def area_of_hexagon(length):\n",
    "    area =  3 * math.sqrt(3) * 0.5 * length * length\n",
    "    return round(area, 1)\n",
    "\n",
    "print(area_of_hexagon(1))\n",
    "print(area_of_hexagon(2))\n",
    "print(area_of_hexagon(3))"
   ]
  },
  {
   "cell_type": "markdown",
   "metadata": {
    "id": "VslMcrB-CbYo"
   },
   "source": [
    "## 5. Create a function that returns a base-2 (binary) representation of a base-10 (decimal) string number. To convert is simple: ((2) means base-2 and (10) means base-10) 010101001(2) = 1 + 8 + 32 + 128."
   ]
  },
  {
   "cell_type": "code",
   "execution_count": 5,
   "metadata": {
    "colab": {
     "base_uri": "https://localhost:8080/"
    },
    "id": "CvZ2xdEbCdy3",
    "outputId": "e49d3ff8-d92e-4578-832a-eca82645bb39"
   },
   "outputs": [
    {
     "name": "stdout",
     "output_type": "stream",
     "text": [
      "1\n",
      "101\n",
      "1010\n"
     ]
    }
   ],
   "source": [
    "def binary(n):\n",
    "    return \"{0:b}\".format(int(n))\n",
    "\n",
    "print(binary(1))\n",
    "print(binary(5))\n",
    "print(binary(10))"
   ]
  }
 ],
 "metadata": {
  "colab": {
   "collapsed_sections": [],
   "provenance": []
  },
  "kernelspec": {
   "display_name": "Python 3 (ipykernel)",
   "language": "python",
   "name": "python3"
  },
  "language_info": {
   "codemirror_mode": {
    "name": "ipython",
    "version": 3
   },
   "file_extension": ".py",
   "mimetype": "text/x-python",
   "name": "python",
   "nbconvert_exporter": "python",
   "pygments_lexer": "ipython3",
   "version": "3.9.13"
  }
 },
 "nbformat": 4,
 "nbformat_minor": 1
}

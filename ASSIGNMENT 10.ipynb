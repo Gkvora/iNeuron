{
 "cells": [
  {
   "cell_type": "markdown",
   "metadata": {
    "id": "Nk65abQiqmpe"
   },
   "source": [
    "# Python Basic Assignment 10"
   ]
  },
  {
   "cell_type": "markdown",
   "metadata": {
    "id": "9lqF8HwVqtfd"
   },
   "source": [
    "# 1. How do you distinguish between shutil.copy() and shutil.copytree()?\n",
    "Ans:\n",
    "shutil.copy() will copy a single file and shutil.copytree() will copy an entire folder and every folder and file contained in it."
   ]
  },
  {
   "cell_type": "markdown",
   "metadata": {
    "id": "EOuXOlahqv4N"
   },
   "source": [
    "# 2. What function is used to rename files??\n",
    "Ans:\n",
    "os.rename()"
   ]
  },
  {
   "cell_type": "markdown",
   "metadata": {
    "id": "4IKwXzWJqziW"
   },
   "source": [
    "# 3. What is the difference between the delete functions in the send2trash and shutil modules?\n",
    "Ans:\n",
    "\n",
    "send2trash function move a file or folder to the recycle bin, while shutil function permanently delete file or folder."
   ]
  },
  {
   "cell_type": "markdown",
   "metadata": {
    "id": "xTFZbKLfq2_s"
   },
   "source": [
    "# 4. ZipFile objects have a close() method just like File objects’ close() method. What ZipFile method is equivalent to File objects’ open() method?\n",
    "Ans:\n",
    "\n",
    "ZipFile"
   ]
  },
  {
   "cell_type": "markdown",
   "metadata": {
    "id": "5sBaQySpq7py"
   },
   "source": [
    "## 5. Create a programme that searches a folder tree for files with a certain file extension (such as .pdf or .jpg). Copy these files from whatever location they are in to a new folder."
   ]
  },
  {
   "cell_type": "code",
   "execution_count": 1,
   "metadata": {
    "id": "G5DfKd5-qhiO"
   },
   "outputs": [
    {
     "name": "stdout",
     "output_type": "stream",
     "text": [
      "[WinError 3] The system cannot find the path specified: 'D:\\\\yash'\n"
     ]
    }
   ],
   "source": [
    "def copyFile(src,dst,ext):\n",
    "    try:\n",
    "        import os,shutil\n",
    "        for file in os.listdir(src):\n",
    "            if file.endswith(ext):\n",
    "                shutil.copy(os.path.join(src,file),dst)\n",
    "        print(f'Files have been successfully copied from {src} to {dst}')\n",
    "    except Exception as e:\n",
    "        print(e)\n",
    "\n",
    "copyFile(r'D:\GAUTAM', r'D:\\GAUTAM\\New folder', '.txt')"
   ]
  },
  {
   "cell_type": "code",
   "execution_count": null,
   "metadata": {},
   "outputs": [],
   "source": []
  }
 ],
 "metadata": {
  "colab": {
   "collapsed_sections": [],
   "provenance": []
  },
  "kernelspec": {
   "display_name": "Python 3 (ipykernel)",
   "language": "python",
   "name": "python3"
  },
  "language_info": {
   "codemirror_mode": {
    "name": "ipython",
    "version": 3
   },
   "file_extension": ".py",
   "mimetype": "text/x-python",
   "name": "python",
   "nbconvert_exporter": "python",
   "pygments_lexer": "ipython3",
   "version": "3.9.13"
  }
 },
 "nbformat": 4,
 "nbformat_minor": 1
}

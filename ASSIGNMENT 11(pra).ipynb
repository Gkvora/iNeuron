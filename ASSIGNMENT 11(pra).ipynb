{
 "cells": [
  {
   "cell_type": "markdown",
   "id": "33524651",
   "metadata": {},
   "source": [
    "# 1.Write a Python program to find words which are greater than given length k?"
   ]
  },
  {
   "cell_type": "code",
   "execution_count": 13,
   "id": "0870c172",
   "metadata": {},
   "outputs": [
    {
     "name": "stdout",
     "output_type": "stream",
     "text": [
      "['Hello!', 'Name', 'Krish', 'Naik']\n"
     ]
    }
   ],
   "source": [
    "k=3\n",
    "A=[]\n",
    "sentence=\"Hello! My Name Is Krish Naik\"\n",
    "for i in sentence.split():\n",
    "    if len(i)>k:\n",
    "        A.append(i)\n",
    "print(A)\n",
    "        "
   ]
  },
  {
   "cell_type": "markdown",
   "id": "aa55e431",
   "metadata": {},
   "source": [
    "# 2. Write a Python program for removing i-th character from a string?"
   ]
  },
  {
   "cell_type": "code",
   "execution_count": 20,
   "id": "41bd8d73",
   "metadata": {},
   "outputs": [
    {
     "name": "stdout",
     "output_type": "stream",
     "text": [
      "How ae You\n"
     ]
    }
   ],
   "source": [
    "def remove_char(s,n):\n",
    "    for i in range(len(s)):\n",
    "        if i==n:\n",
    "            s=s.replace(s[n],\"\")\n",
    "    return s\n",
    "string=\"How are You\"\n",
    "n=5\n",
    "print(remove_char(string,n))"
   ]
  },
  {
   "cell_type": "markdown",
   "id": "88ee1f19",
   "metadata": {},
   "source": [
    "# 3. Write a Python program to split and join a string?"
   ]
  },
  {
   "cell_type": "code",
   "execution_count": 27,
   "id": "a531ec7d",
   "metadata": {},
   "outputs": [
    {
     "name": "stdout",
     "output_type": "stream",
     "text": [
      "['Hello', 'vikas', 'sharma']\n",
      "Hello@vikas@sharma\n"
     ]
    }
   ],
   "source": [
    "A=\"Hello vikas sharma\"\n",
    "print(A.split(\" \"))\n",
    "print(\"@\".join(A.split()))"
   ]
  },
  {
   "cell_type": "markdown",
   "id": "285033f3",
   "metadata": {},
   "source": [
    "# 4. Write a Python to check if a given string is binary string or not?"
   ]
  },
  {
   "cell_type": "code",
   "execution_count": 32,
   "id": "30eb875a",
   "metadata": {},
   "outputs": [
    {
     "name": "stdout",
     "output_type": "stream",
     "text": [
      "StringA is a binary string.\n",
      "StringB is not a binary string.\n"
     ]
    }
   ],
   "source": [
    "stringA = '0110101010111'\n",
    "b = {'0','1'}\n",
    "t = set(stringA)\n",
    "\n",
    "if b == t or t == {'0'} or t == {'1'}:\n",
    "    print(\"StringA is a binary string.\")\n",
    "else:\n",
    "    print(\"StringA is not a binary string.\")\n",
    "\n",
    "stringB = '0120101010111'\n",
    "u = set(stringB)\n",
    "\n",
    "if b == u or u == {'0'} or u == {'1'}:\n",
    "    print(\"StringB is a binary string.\")\n",
    "else:\n",
    "    print(\"StringB is not a binary string.\")"
   ]
  },
  {
   "cell_type": "markdown",
   "id": "c8eb3df1",
   "metadata": {},
   "source": [
    "# 5.Write a Python program to find uncommon words from two Strings?"
   ]
  },
  {
   "cell_type": "code",
   "execution_count": 33,
   "id": "77864196",
   "metadata": {},
   "outputs": [
    {
     "name": "stdout",
     "output_type": "stream",
     "text": [
      "Enter first string : hello rahul how are you ?\n",
      "Enter second string : hello raj how r u ?\n",
      "All uncommon words from both the string are  ['rahul', 'are', 'you', 'raj', 'r', 'u']\n"
     ]
    }
   ],
   "source": [
    "s1 = input('Enter first string : ')\n",
    "s2 = input('Enter second string : ')\n",
    "\n",
    "count = {}\n",
    "for word in s1.split():\n",
    "    count[word] = count.get(word, 0) + 1\n",
    "for word in s2.split():\n",
    "    count[word] = count.get(word, 0) + 1\n",
    "unc =  [word for word in count if count[word] == 1]\n",
    "\n",
    "print(\"All uncommon words from both the string are \", unc)"
   ]
  },
  {
   "cell_type": "markdown",
   "id": "bcbee240",
   "metadata": {},
   "source": [
    "# 6.Write a Python to find all duplicate characters in string?"
   ]
  },
  {
   "cell_type": "code",
   "execution_count": 38,
   "id": "9a1406bb",
   "metadata": {},
   "outputs": [
    {
     "name": "stdout",
     "output_type": "stream",
     "text": [
      "a t o i s\n"
     ]
    }
   ],
   "source": [
    "str = \"whattutorialspointis\"\n",
    "dup_char = []\n",
    "for character in str:\n",
    "      if str.count(character) > 1:\n",
    "            if character not in dup_char:\n",
    "                dup_char.append(character)\n",
    "print(*dup_char)"
   ]
  },
  {
   "cell_type": "markdown",
   "id": "b0b264e0",
   "metadata": {},
   "source": [
    "# 7.Write a Python Program to check if a string contains any special character?"
   ]
  },
  {
   "cell_type": "code",
   "execution_count": 40,
   "id": "6de6da36",
   "metadata": {},
   "outputs": [
    {
     "name": "stdout",
     "output_type": "stream",
     "text": [
      "string does not contain special characters.\n",
      "string contains special characters.\n"
     ]
    }
   ],
   "source": [
    "def has_special_char(s):\n",
    "    for c in s:\n",
    "        if not (c.isalpha() or c.isdigit() or c == ' '):\n",
    "            return True\n",
    "    return False\n",
    " \n",
    "s = \"Hello Python\"\n",
    "if has_special_char(s):\n",
    "    print(\"string contains special characters.\")\n",
    "else:\n",
    "    print(\"string does not contain special characters.\")\n",
    "    \n",
    "s = \"Hello@World\"\n",
    "if has_special_char(s):\n",
    "    print(\"string contains special characters.\")\n",
    "else:\n",
    "    print(\"string does not contain special characters.\")"
   ]
  },
  {
   "cell_type": "code",
   "execution_count": null,
   "id": "81c8d8db",
   "metadata": {},
   "outputs": [],
   "source": []
  }
 ],
 "metadata": {
  "kernelspec": {
   "display_name": "Python 3 (ipykernel)",
   "language": "python",
   "name": "python3"
  },
  "language_info": {
   "codemirror_mode": {
    "name": "ipython",
    "version": 3
   },
   "file_extension": ".py",
   "mimetype": "text/x-python",
   "name": "python",
   "nbconvert_exporter": "python",
   "pygments_lexer": "ipython3",
   "version": "3.9.13"
  }
 },
 "nbformat": 4,
 "nbformat_minor": 5
}
